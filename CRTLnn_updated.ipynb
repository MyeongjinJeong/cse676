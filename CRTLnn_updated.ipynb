{
  "nbformat": 4,
  "nbformat_minor": 0,
  "metadata": {
    "accelerator": "GPU",
    "colab": {
      "name": "CRTLnn_updated.ipynb",
      "provenance": [],
      "collapsed_sections": [],
      "machine_shape": "hm"
    },
    "kernelspec": {
      "display_name": "Python 3",
      "language": "python",
      "name": "python3"
    },
    "language_info": {
      "codemirror_mode": {
        "name": "ipython",
        "version": 3
      },
      "file_extension": ".py",
      "mimetype": "text/x-python",
      "name": "python",
      "nbconvert_exporter": "python",
      "pygments_lexer": "ipython3",
      "version": "3.7.3"
    },
    "latex_envs": {
      "LaTeX_envs_menu_present": true,
      "autoclose": false,
      "autocomplete": true,
      "bibliofile": "biblio.bib",
      "cite_by": "apalike",
      "current_citInitial": 1,
      "eqLabelWithNumbers": true,
      "eqNumInitial": 1,
      "hotkeys": {
        "equation": "Ctrl-E",
        "itemize": "Ctrl-I"
      },
      "labels_anchors": false,
      "latex_user_defs": false,
      "report_style_numbering": false,
      "user_envs_cfg": false
    }
  },
  "cells": [
    {
      "cell_type": "code",
      "metadata": {
        "colab_type": "code",
        "id": "-EOtExRtw7iQ",
        "colab": {
          "base_uri": "https://localhost:8080/",
          "height": 80
        },
        "outputId": "ee387b22-9954-4741-fb31-24e0e25109e9"
      },
      "source": [
        "import os\n",
        "import dill\n",
        "import random\n",
        "import librosa\n",
        "import librosa.display\n",
        "import numpy as np\n",
        "import matplotlib.pyplot as plt\n",
        "import gudhi \n",
        "import tensorflow as tf\n",
        "\n",
        "from sklearn import preprocessing\n",
        "from keras.utils import to_categorical\n",
        "from keras.models import Sequential\n",
        "from keras.layers import Flatten, Input, concatenate,Permute, Reshape, GRU,Add\n",
        "from keras.layers import Dense, Conv2D, Dropout, Flatten, MaxPooling2D ,LeakyReLU ,BatchNormalization ,MaxPooling2D , Activation\n",
        "from keras.optimizers import Adam\n",
        "\n",
        "from keras.models import Model\n",
        "from keras.callbacks import ModelCheckpoint\n",
        "from tensorflow.keras.models import load_model\n",
        "from sklearn.metrics import classification_report\n",
        "from keras.utils import plot_model\n",
        "\n",
        "from PIL import Image\n",
        "from matplotlib import image\n",
        "from matplotlib import pyplot\n"
      ],
      "execution_count": 2,
      "outputs": [
        {
          "output_type": "display_data",
          "data": {
            "text/html": [
              "<p style=\"color: red;\">\n",
              "The default version of TensorFlow in Colab will soon switch to TensorFlow 2.x.<br>\n",
              "We recommend you <a href=\"https://www.tensorflow.org/guide/migrate\" target=\"_blank\">upgrade</a> now \n",
              "or ensure your notebook will continue to use TensorFlow 1.x via the <code>%tensorflow_version 1.x</code> magic:\n",
              "<a href=\"https://colab.research.google.com/notebooks/tensorflow_version.ipynb\" target=\"_blank\">more info</a>.</p>\n"
            ],
            "text/plain": [
              "<IPython.core.display.HTML object>"
            ]
          },
          "metadata": {
            "tags": []
          }
        },
        {
          "output_type": "stream",
          "text": [
            "Using TensorFlow backend.\n"
          ],
          "name": "stderr"
        }
      ]
    },
    {
      "cell_type": "markdown",
      "metadata": {
        "id": "fzx2YzK1DMmb",
        "colab_type": "text"
      },
      "source": [
        "# Presetting"
      ]
    },
    {
      "cell_type": "code",
      "metadata": {
        "id": "Y1swv1DgDMmd",
        "colab_type": "code",
        "colab": {}
      },
      "source": [
        "artist_folder='artists' \n",
        "save_folder='Total_data'\n",
        "barcode_folder='barcode'\n",
        "song_folder='song_data'\n",
        "diagram_folder = 'diagram'\n",
        "savemodel_folder = 'modelsave'\n",
        "\n",
        "sr = 16000\n",
        "# n_mels =128\n",
        "# n_mels =256\n",
        "\n",
        "train_ratio = 0.8\n",
        "val_ratio = 0.1\n",
        "test_ratio = 0.1\n",
        "seconds = 20\n",
        "# seconds = 30\n",
        "\n",
        "epochs = 1\n",
        "learning_rate = 1e-3"
      ],
      "execution_count": 0,
      "outputs": []
    },
    {
      "cell_type": "markdown",
      "metadata": {
        "id": "cetSO0_8DMmg",
        "colab_type": "text"
      },
      "source": [
        "# Function"
      ]
    },
    {
      "cell_type": "code",
      "metadata": {
        "id": "_oYOmP0pDMmh",
        "colab_type": "code",
        "colab": {}
      },
      "source": [
        "def generate_barcode_dataset(artist_folder='artists',barcode_folder='barcode',save_folder='Total_data',sr = 16000, n_mels = 256):\n",
        "    '''\n",
        "    D.Ellis(2007) Classitying Music Audio with Timbral and Chroma Features. Proc. Int. Conf. on Music Information Retrieval ISMIR-07, Vienna, Austria, Sep. 2007\n",
        "    Zain Nasrullah, Yue Zhao(2019) Music Artist Classification with Convolutional Recurrent Neural Networks Proceedings of the 2019 International Joint Conference on Neural Networks (IJCNN)\n",
        "    I got an idea from these two papers. \n",
        "    '''\n",
        "    os.makedirs(barcode_folder, exist_ok=True)\n",
        "    os.makedirs(save_folder, exist_ok=True)\n",
        "    \n",
        "    musicians = os.listdir(artist_folder)\n",
        "    for musician in musicians:\n",
        "        musician_path = os.path.join(artist_folder, musician)\n",
        "        collections = os.listdir(musician_path)\n",
        "        for album in collections:\n",
        "            album_path = os.path.join(musician_path, album)\n",
        "            songs = os.listdir(album_path)\n",
        "            for song in songs:\n",
        "                song_path = os.path.join(album_path, song) \n",
        "\n",
        "                #  Load the audio as a waveform 'y_raw' and Store the sampling rate as 'sr'\n",
        "                y_raw, sr = librosa.load(song_path)\n",
        "\n",
        "                # Generate point cloud \n",
        "                point_cloud_x=[]\n",
        "                point_cloud_y=[]\n",
        "                point_cloud=[]\n",
        "\n",
        "                # Normalize points\n",
        "                def projection(X, x_min, x_max):\n",
        "                    norm = (X-X.min(axis=0))*(x_max-x_min)\n",
        "                    denorm = X.max(axis=0) - X.min(axis=0)\n",
        "                    denorm[denorm==0] = 1\n",
        "                    return x_min + norm/denorm \n",
        "\n",
        "                for i,j in enumerate(y_raw):\n",
        "                    if i%50000 ==0:\n",
        "                        point_cloud_x.append(i)\n",
        "                        point_cloud_y.append(j)\n",
        "                        point_cloud.append([i,j])\n",
        "\n",
        "                normalized_point_cloud = projection(np.asarray(point_cloud),-1,1)\n",
        "\n",
        "                # Generate barcode charts\n",
        "                rips_complex = gudhi.RipsComplex(points=normalized_point_cloud)\n",
        "                simplex_tree = rips_complex.create_simplex_tree(max_dimension=3)\n",
        "                diag = simplex_tree.persistence(homology_coeff_field=2, min_persistence=0)\n",
        "\n",
        "                # Plot raw barcode chart and modify it\n",
        "                plt.figure(figsize=(10,4))\n",
        "                plt = gudhi.plot_persistence_barcode(diag)\n",
        "                barcode_path = os.path.join(barcode_folder, song)\n",
        "                plt.tight_layout()            \n",
        "                plt.savefig(barcode_path + \".jpg\")\n",
        "                # load and create a cropped image\n",
        "                image1 = Image.open(barcode_path+ \".jpg\")\n",
        "                cropped = image1.crop((36, 24, 720, 260))\n",
        "                # save cropped image and load the image again\n",
        "                cropped.save(barcode_path+ \".jpg\")\n",
        "                image2 = Image.open(barcode_path+ \".jpg\")\n",
        "                # store the image\n",
        "                data = image.imread(barcode_path+ \".jpg\")\n",
        "                barcode_data = (musician, data, song)\n",
        "\n",
        "                # Save each barcode chart\n",
        "                save_name = musician + '_##_' + album + '_##_' + song\n",
        "                save_integrated_path = os.path.join(save_folder, save_name)\n",
        "                with open(save_integrated_path, 'wb') as f:\n",
        "                    dill.dump(barcode_data, f)"
      ],
      "execution_count": 0,
      "outputs": []
    },
    {
      "cell_type": "code",
      "metadata": {
        "id": "PUU6PGgyDMmk",
        "colab_type": "code",
        "colab": {}
      },
      "source": [
        "def generate_spec_dataset(artist_folder='artists',song_folder='song_data',sr = 16000, n_mels = 128):\n",
        "\n",
        "    os.makedirs(song_folder, exist_ok=True)\n",
        "    \n",
        "    musicians = os.listdir(artist_folder)\n",
        "    for musician in musicians:\n",
        "        musician_path = os.path.join(artist_folder, musician)\n",
        "        collections = os.listdir(musician_path)\n",
        "        for album in collections:\n",
        "            album_path = os.path.join(musician_path, album)\n",
        "            songs = os.listdir(album_path)\n",
        "            for song in songs:\n",
        "                song_path = os.path.join(album_path, song) \n",
        "\n",
        "                #  Load the audio as a waveform 'y_raw' and Store the sampling rate as 'sr'\n",
        "                y_raw, sr = librosa.load(song_path)\n",
        "\n",
        "                Spec = librosa.feature.melspectrogram(y=y_raw, sr=sr, n_mels=n_mels,fmax=8000) \n",
        "                Spec_dB = librosa.power_to_db(S, ref=np.max)\n",
        "                \n",
        "                spect_data = (musician, spec_dB, song)\n",
        "\n",
        "                # Save each spectrogram\n",
        "                save_name = musician + '_##_' + album + '_##_' + song\n",
        "                save_integrated_path = os.path.join(song_folder, save_name)\n",
        "                with open(save_integrated_path, 'wb') as f:\n",
        "                    dill.dump(spect_data, f)"
      ],
      "execution_count": 0,
      "outputs": []
    },
    {
      "cell_type": "code",
      "metadata": {
        "colab_type": "code",
        "id": "6LumnvVO7FUj",
        "colab": {}
      },
      "source": [
        "def split_dataset(save_folder=save_folder, artist_folder=artist_folder, train_ratio=train_ratio, val_ratio=val_ratio, test_ratio=test_ratio):\n",
        "    artist_list = os.listdir(artist_folder)\n",
        "    song_list = os.listdir(save_folder)\n",
        "    \n",
        "    index = list(range(len(song_list)))\n",
        "    np.random.seed(42)\n",
        "    np.random.shuffle(index)\n",
        "\n",
        "    train_index = int(len(song_list)*train_ratio)\n",
        "    val_index = int(len(song_list)*val_ratio)\n",
        "\n",
        "    sample_train = [song_list[i] for i in index[:train_index]]\n",
        "    sample_val = [song_list[i] for i in index[train_index:train_index+val_index]]\n",
        "    sample_test = [song_list[i] for i in index[train_index+val_index:]]\n",
        "\n",
        "    print(\"The number of sample train: \", len(sample_train))\n",
        "    print(\"The number of sample val: \", len(sample_val))\n",
        "    print(\"The number of sample test: \",len(sample_test))\n",
        "    \n",
        "    \n",
        "    return sample_train, sample_val, sample_test"
      ],
      "execution_count": 0,
      "outputs": []
    },
    {
      "cell_type": "code",
      "metadata": {
        "id": "TrIISKyLDMmq",
        "colab_type": "code",
        "colab": {}
      },
      "source": [
        "def get_each_dataset(dataset, save_folder=save_folder, song_folder=song_folder):\n",
        "    specs = []\n",
        "    barcodes = []\n",
        "    artists = []\n",
        "    songs = []\n",
        "    \n",
        "    for song in dataset:\n",
        "        songs_path = os.path.join(save_folder, song)\n",
        "        spec_song_path = os.path.join(song_folder, song)\n",
        "    \n",
        "        with open(songs_path, 'rb') as f:\n",
        "            data = dill.load(f)\n",
        "            artists.append(data[0])\n",
        "            barcodes.append(data[1])\n",
        "            songs.append(data[2])\n",
        "\n",
        "        with open(spec_song_path, 'rb') as fs:\n",
        "            data_s = dill.load(fs)\n",
        "            specs.append(data_s[1])\n",
        "    \n",
        "    return specs, barcodes, artists, songs"
      ],
      "execution_count": 0,
      "outputs": []
    },
    {
      "cell_type": "code",
      "metadata": {
        "colab_type": "code",
        "id": "ewtcl0FK7PfQ",
        "colab": {}
      },
      "source": [
        "def split_specs_into_subspecs(specs,barcodes,artists,songs, seconds = seconds):\n",
        "    \n",
        "    sliced_specs = []\n",
        "    sliced_barcodes = []\n",
        "    sliced_artists = []\n",
        "    sliced_songs = []\n",
        "    length = int((seconds*31) + 8)\n",
        "    \n",
        "    i = 0\n",
        "    for song in specs:\n",
        "        num_slices = int(song.shape[1] / length)\n",
        "        for j in range (num_slices - 1):    \n",
        "            sliced_specs.append(song[:, length * j:length * (j + 1)])\n",
        "            sliced_barcodes.append(barcodes[i])\n",
        "            sliced_artists.append(artists[i])\n",
        "            sliced_songs.append(songs[i])\n",
        "        i+=1\n",
        "    \n",
        "    na_sliced_specs = np.array(sliced_specs)\n",
        "    na_sliced_barcodes = np.array(sliced_barcodes)\n",
        "    na_sliced_artists = np.array(sliced_artists)\n",
        "    na_sliced_songs = np.array(sliced_songs)\n",
        "\n",
        "    new_sliced_specs = np.reshape(na_sliced_specs,na_sliced_specs.shape +(1,))\n",
        "    \n",
        "    return new_sliced_specs, na_sliced_barcodes, na_sliced_artists, na_sliced_songs"
      ],
      "execution_count": 0,
      "outputs": []
    },
    {
      "cell_type": "code",
      "metadata": {
        "colab_type": "code",
        "id": "v2PC8Olcxvmo",
        "colab": {}
      },
      "source": [
        "def one_hot_encoded(ny_train,ny_val,ny_test):\n",
        "    # encode the musicians and make one_hot encoded vector\n",
        "    le = preprocessing.LabelEncoder()\n",
        "    le.fit(ny_train)\n",
        "\n",
        "    print('Classes: ',le.classes_)\n",
        "\n",
        "    encoded_y_train = to_categorical(le.transform(ny_train))\n",
        "    encoded_y_val = to_categorical(le.transform(ny_val))\n",
        "    encoded_y_test = to_categorical(le.transform(ny_test))\n",
        "\n",
        "    return encoded_y_train, encoded_y_val, encoded_y_test"
      ],
      "execution_count": 0,
      "outputs": []
    },
    {
      "cell_type": "code",
      "metadata": {
        "colab_type": "code",
        "id": "AhrGtL51Cxjx",
        "colab": {}
      },
      "source": [
        "def diaggram_model(model):\n",
        "    diagram_folder = 'diagram'\n",
        "    os.makedirs(diagram_folder, exist_ok=True)\n",
        "    diagram_path = os.path.join(diagram_folder, str(model))\n",
        "    plot_model(model, show_shapes =True, to_file=diagram_path+\".png\")"
      ],
      "execution_count": 0,
      "outputs": []
    },
    {
      "cell_type": "code",
      "metadata": {
        "colab_type": "code",
        "id": "e6S1FeCXR-zI",
        "colab": {}
      },
      "source": [
        "def plot_loss_accuracy(model,history):\n",
        "    # Graph for accuracy\n",
        "    plt.figure(figsize=(16,8))\n",
        "    plt.subplot(1,2,1)\n",
        "    plt.plot(history.history['acc'])\n",
        "    plt.plot(history.history['val_acc'])\n",
        "    plt.title(str(model)+ ' model accuracy')\n",
        "    plt.ylabel('accuracy')\n",
        "    plt.xlabel('epoch')\n",
        "    plt.legend(['train', 'val'], loc='upper left')\n",
        "    \n",
        "    # Graph for loss\n",
        "    plt.subplot(1,2,2)\n",
        "    plt.plot(history.history['loss'])\n",
        "    plt.plot(history.history['val_loss'])\n",
        "    plt.title(str(model)+ 'model loss')\n",
        "    plt.ylabel('loss')\n",
        "    plt.xlabel('epoch')\n",
        "    plt.legend(['train', 'val'], loc='upper left')\n",
        "    plt.show()"
      ],
      "execution_count": 0,
      "outputs": []
    },
    {
      "cell_type": "code",
      "metadata": {
        "id": "ceaWxXdJDMm6",
        "colab_type": "code",
        "colab": {}
      },
      "source": [
        "def save_plot(model,history):\n",
        "    # Graph for accuracy\n",
        "    plt.figure(figsize=(16,8))\n",
        "    plt.subplot(1,2,1)\n",
        "    plt.plot(history.history['acc'])\n",
        "    plt.plot(history.history['val_acc'])\n",
        "    plt.title(str(model)+ ' model accuracy')\n",
        "    plt.ylabel('accuracy')\n",
        "    plt.xlabel('epoch')\n",
        "    plt.legend(['train', 'val'], loc='upper left')\n",
        "    \n",
        "    # Graph for loss\n",
        "    plt.subplot(1,2,2)\n",
        "    plt.plot(history.history['loss'])\n",
        "    plt.plot(history.history['val_loss'])\n",
        "    plt.title(str(model)+ 'model loss')\n",
        "    plt.ylabel('loss')\n",
        "    plt.xlabel('epoch')\n",
        "    plt.legend(['train', 'val'], loc='upper left')\n",
        "    plt.savefig(str(model) + \".png\" ,bbox_inches=\"tight\")\n",
        "    plt.close()"
      ],
      "execution_count": 0,
      "outputs": []
    },
    {
      "cell_type": "code",
      "metadata": {
        "id": "2utTdTDvDMnA",
        "colab_type": "code",
        "colab": {}
      },
      "source": [
        "def train_model(model,seconds=30,epochs=1,learning_rate =1e-3 ):\n",
        "    \n",
        "    opt = tf.keras.optimizers.Adam(lr=learning_rate)\n",
        "    model.compile(loss=\"categorical_crossentropy\", metrics=['acc'], optimizer=opt)\n",
        "    \n",
        "    # Check batch size based on seconds\n",
        "    if seconds == 20:\n",
        "        batch_size = 32\n",
        "        \n",
        "        best_weights_file = \"CRTLnn_weights.best.hdf5\"\n",
        "        checkpoint = ModelCheckpoint(best_weights_file, monitor='val_acc', verbose=1, save_best_only=True, mode='max')\n",
        "        callbacks = [checkpoint]    \n",
        "\n",
        "        # Train the model\n",
        "        history = model.fit([nb_train,nspec_x_train], encoded_y_train, verbose=1, epochs=epochs, callbacks=callbacks,\n",
        "               validation_data=([nb_val,nspec_x_val],encoded_y_val), batch_size=batch_size, shuffle=True)\n",
        "        \n",
        "        # Load weights and Obtain final loss and accuracy for test data\n",
        "        model.load_weights(best_weights_file)\n",
        "        Final_loss, Final_accuracy = model.evaluate([nb_test,nspec_x_test], encoded_y_test, verbose=1)\n",
        "        print(\"Final loss: {0:.6f}, final accuracy: {1:.6f}\".format(Final_loss, Final_accuracy)) \n",
        "        \n",
        "        # Plot loss and accuracy and save it\n",
        "        plot_loss_accuracy(model,history)\n",
        "        # Graph for accuracy\n",
        "        plt.figure(figsize=(16,8))\n",
        "        plt.subplot(1,2,1)\n",
        "        plt.plot(history.history['acc'])\n",
        "        plt.plot(history.history['val_acc'])\n",
        "        plt.title(str(model)+ ' model accuracy')\n",
        "        plt.ylabel('accuracy')\n",
        "        plt.xlabel('epoch')\n",
        "        plt.legend(['train', 'val'], loc='upper left')\n",
        "        \n",
        "        # Graph for loss\n",
        "        plt.subplot(1,2,2)\n",
        "        plt.plot(history.history['loss'])\n",
        "        plt.plot(history.history['val_loss'])\n",
        "        plt.title(str(model)+ 'model loss')\n",
        "        plt.ylabel('loss')\n",
        "        plt.xlabel('epoch')\n",
        "        plt.legend(['train', 'val'], loc='upper left')\n",
        "        plt.savefig(\"CRTLnn_model_20_AL.png\" ,bbox_inches=\"tight\")\n",
        "        plt.close()\n",
        "        \n",
        "        # Save model\n",
        "        model.save(\"CRTLnn_model_20_updated.h5\")  \n",
        "      \n",
        "        \n",
        "        # Obtain classfication report\n",
        "        le = preprocessing.LabelEncoder()\n",
        "        le.fit(ny_train)\n",
        "        y_pred = model.predict([nb_test,nspec_x_test], batch_size = batch_size, verbose=1)\n",
        "        y_pred_bool = np.argmax(y_pred, axis=1)\n",
        "        encoded_y_test_bool = np.argmax(encoded_y_test, axis=1)\n",
        "        print(classification_report(encoded_y_test_bool, y_pred_bool,target_names=le.classes_))\n",
        "        \n",
        "    batch_size = 16\n",
        "    best_weights_file = \"CRTLnn_weights_30.best.hdf5\"\n",
        "    checkpoint = ModelCheckpoint(best_weights_file, monitor='val_acc', verbose=1, save_best_only=True, mode='max')\n",
        "    callbacks = [checkpoint]\n",
        "\n",
        "    history = model.fit([nb_train,nspec_x_train], encoded_y_train, verbose=1, epochs=epochs, callbacks=callbacks,\n",
        "               validation_data=([nb_val,nspec_x_val],encoded_y_val), batch_size=16, shuffle=True)\n",
        "\n",
        "    # Load weights and Obtain final loss and accuracy for test data\n",
        "    model.load_weights(best_weights_file)\n",
        "    Final_loss, Final_accuracy = model.evaluate([nb_test,nspec_x_test], encoded_y_test, verbose=1)\n",
        "    print(\"Final loss: {0:.6f}, final accuracy: {1:.6f}\".format(Final_loss, Final_accuracy)) \n",
        "\n",
        "    # Plot loss and accuracy and save \n",
        "    plot_loss_accuracy(model,history)\n",
        "    \n",
        "    # Graph for accuracy\n",
        "    plt.figure(figsize=(16,8))\n",
        "    plt.subplot(1,2,1)\n",
        "    plt.plot(history.history['acc'])\n",
        "    plt.plot(history.history['val_acc'])\n",
        "    plt.title(str(model)+ ' model accuracy')\n",
        "    plt.ylabel('accuracy')\n",
        "    plt.xlabel('epoch')\n",
        "    plt.legend(['train', 'val'], loc='upper left')\n",
        "    \n",
        "    # Graph for loss\n",
        "    plt.subplot(1,2,2)\n",
        "    plt.plot(history.history['loss'])\n",
        "    plt.plot(history.history['val_loss'])\n",
        "    plt.title(str(model)+ 'model loss')\n",
        "    plt.ylabel('loss')\n",
        "    plt.xlabel('epoch')\n",
        "    plt.legend(['train', 'val'], loc='upper left')\n",
        "    plt.savefig(\"CRTLnn_model_30_AL.png\" ,bbox_inches=\"tight\")\n",
        "    plt.close()\n",
        "\n",
        "    # Save model\n",
        "    model.save(\"CRTLnn_model_30_updated.h5\")  \n",
        "\n",
        "    # Obtain classfication report\n",
        "    le = preprocessing.LabelEncoder()\n",
        "    le.fit(ny_train)\n",
        "    y_pred = model.predict([nb_test,nspec_x_test], batch_size = batch_size, verbose=1)\n",
        "    y_pred_bool = np.argmax(y_pred, axis=1)\n",
        "    encoded_y_test_bool = np.argmax(encoded_y_test, axis=1)\n",
        "    print(classification_report(encoded_y_test_bool, y_pred_bool,target_names=le.classes_))"
      ],
      "execution_count": 0,
      "outputs": []
    },
    {
      "cell_type": "markdown",
      "metadata": {
        "id": "sOxfRDvIDMnC",
        "colab_type": "text"
      },
      "source": [
        "# Setting"
      ]
    },
    {
      "cell_type": "code",
      "metadata": {
        "scrolled": true,
        "id": "rTfJtoSdDMnD",
        "colab_type": "code",
        "colab": {
          "base_uri": "https://localhost:8080/",
          "height": 68
        },
        "outputId": "db3ed2cc-6d59-41e7-fb27-912d27daad4a"
      },
      "source": [
        "sample_train, sample_val, sample_test = split_dataset()"
      ],
      "execution_count": 14,
      "outputs": [
        {
          "output_type": "stream",
          "text": [
            "The number of sample train:  1130\n",
            "The number of sample val:  141\n",
            "The number of sample test:  142\n"
          ],
          "name": "stdout"
        }
      ]
    },
    {
      "cell_type": "code",
      "metadata": {
        "id": "UUdeFZOmDMnG",
        "colab_type": "code",
        "colab": {}
      },
      "source": [
        "spec_train, b_train, y_train, s_train = get_each_dataset(sample_train)\n",
        "spec_val, b_val, y_val, s_val = get_each_dataset(sample_val)\n",
        "spec_test, b_test, y_test, s_test = get_each_dataset(sample_test)"
      ],
      "execution_count": 0,
      "outputs": []
    },
    {
      "cell_type": "code",
      "metadata": {
        "id": "HNpjhBpGDMnI",
        "colab_type": "code",
        "colab": {}
      },
      "source": [
        "nspec_x_train, nb_train ,ny_train, ns_train = split_specs_into_subspecs(spec_train,b_train,y_train,s_train,seconds)\n",
        "nspec_x_val, nb_val ,ny_val, ns_val = split_specs_into_subspecs(spec_val,b_val,y_val,s_val,seconds)\n",
        "nspec_x_test, nb_test ,ny_test, ns_test = split_specs_into_subspecs(spec_test,b_test,y_test,s_test,seconds)"
      ],
      "execution_count": 0,
      "outputs": []
    },
    {
      "cell_type": "code",
      "metadata": {
        "scrolled": true,
        "id": "hsB7uleYDMnL",
        "colab_type": "code",
        "colab": {
          "base_uri": "https://localhost:8080/",
          "height": 85
        },
        "outputId": "1401176f-fff2-4521-eee4-dfe085c53064"
      },
      "source": [
        "encoded_y_train, encoded_y_val, encoded_y_test = one_hot_encoded(ny_train,ny_val,ny_test)"
      ],
      "execution_count": 17,
      "outputs": [
        {
          "output_type": "stream",
          "text": [
            "Classes:  ['aerosmith' 'beatles' 'creedence_clearwater_revival' 'cure'\n",
            " 'dave_matthews_band' 'depeche_mode' 'fleetwood_mac' 'garth_brooks'\n",
            " 'green_day' 'led_zeppelin' 'madonna' 'metallica' 'prince' 'queen'\n",
            " 'radiohead' 'roxette' 'steely_dan' 'suzanne_vega' 'tori_amos' 'u2']\n"
          ],
          "name": "stdout"
        }
      ]
    },
    {
      "cell_type": "markdown",
      "metadata": {
        "id": "DBd5sGqmDMnO",
        "colab_type": "text"
      },
      "source": [
        "# Model"
      ]
    },
    {
      "cell_type": "code",
      "metadata": {
        "id": "k_oxyFDeDMnP",
        "colab_type": "code",
        "colab": {}
      },
      "source": [
        "def cnn2D_20(b_shape):\n",
        "    \n",
        "    input_shape = (b_shape[1],b_shape[2],b_shape[3])\n",
        "    inputs = Input(shape=input_shape)\n",
        "    \n",
        "    x = inputs\n",
        "    x = Conv2D(filters=16, kernel_size = (7,7), padding = 'same', strides = 1, input_shape =input_shape)(x)\n",
        "    x = LeakyReLU(alpha=0.1)(x)\n",
        "    x = BatchNormalization(axis=input_shape[2])(x)\n",
        "    x = MaxPooling2D(pool_size=(4,2), padding = 'same' , strides = 2)(x)\n",
        "    x = Dropout(0.25)(x)\n",
        "\n",
        "    x = Conv2D(filters=32, kernel_size = (5,5), padding = 'same', strides = 1)(x)\n",
        "    x = LeakyReLU(alpha=0.1)(x)\n",
        "    x = BatchNormalization(axis=input_shape[2])(x)\n",
        "    x = MaxPooling2D(pool_size=(4,4), padding = 'same' , strides = 2)(x)\n",
        "    x = Dropout(0.25)(x)\n",
        "\n",
        "    x = Conv2D(filters=32, kernel_size = (3,3), padding = 'same', strides = 1)(x)\n",
        "    x = LeakyReLU(alpha=0.1)(x)\n",
        "    x = BatchNormalization(axis=input_shape[2])(x)\n",
        "    x = MaxPooling2D(pool_size=(4,4), padding = 'same' , strides = 2)(x)\n",
        "    x = Dropout(0.25)(x)\n",
        "\n",
        "    x = Conv2D(filters=32, kernel_size = (4,4), padding = 'same', strides = 1)(x)\n",
        "    x = LeakyReLU(alpha=0.1)(x)\n",
        "    x = BatchNormalization(axis=input_shape[2])(x)\n",
        "    x = MaxPooling2D(pool_size=(4,4), padding = 'same' , strides = 2)(x)\n",
        "    x = Dropout(0.4)(x)\n",
        "\n",
        "    x = Conv2D(filters=32, kernel_size = (4,4), padding = 'same', strides = 1)(x)\n",
        "    x = LeakyReLU(alpha=0.1)(x)\n",
        "    x = BatchNormalization(axis=input_shape[2])(x)\n",
        "    x = MaxPooling2D(pool_size=(4,4), padding = 'same' , strides = 2)(x)\n",
        "    x = Dropout(0.4)(x)\n",
        "    \n",
        "    x = Conv2D(filters=32, kernel_size = (4,4), padding = 'same', strides = 1)(x)\n",
        "    x = LeakyReLU(alpha=0.1)(x)\n",
        "    x = BatchNormalization(axis=input_shape[2])(x)\n",
        "    x = MaxPooling2D(pool_size=(4,4), padding = 'same' , strides = 2)(x)\n",
        "    x = Dropout(0.4)(x)\n",
        "\n",
        "    x = Flatten()(x)\n",
        "    x = Dense(40*128)(x)\n",
        "    x = Dropout(0.3)(x)\n",
        "    x = Reshape((40, 128))(x)\n",
        "\n",
        "    model = Model(inputs,x)\n",
        "\n",
        "    return model "
      ],
      "execution_count": 0,
      "outputs": []
    },
    {
      "cell_type": "code",
      "metadata": {
        "colab_type": "code",
        "id": "ztYLPWHxxq_b",
        "colab": {}
      },
      "source": [
        "def cnn2D_spec_20(spec_x_shape):\n",
        "    '''\n",
        "    D.Ellis(2007) Classitying Music Audio with Timbral and Chroma Features. Proc. Int. Conf. on Music Information Retrieval ISMIR-07, Vienna, Austria, Sep. 2007\n",
        "    Zain Nasrullah, Yue Zhao(2019) Music Artist Classification with Convolutional Recurrent Neural Networks Proceedings of the 2019 International Joint Conference on Neural Networks (IJCNN)\n",
        "    I got an idea from these two papers. \n",
        "    '''\n",
        "\n",
        "    input_shape = (spec_x_shape[1], spec_x_shape[2], spec_x_shape[3])\n",
        "    inputs = Input(shape=input_shape)\n",
        "    \n",
        "    y = inputs\n",
        "    y = Conv2D(filters=64, kernel_size = (3,3), padding = 'same',  input_shape =input_shape)(y)\n",
        "    y = LeakyReLU(alpha=0.1)(y)\n",
        "    y = BatchNormalization(axis=input_shape[2])(y)\n",
        "    y = MaxPooling2D(pool_size=(2,2), padding = 'same' , strides = (2,2))(y)\n",
        "    y = Dropout(0.1)(y)\n",
        "    \n",
        "    y = Conv2D(filters=128, kernel_size = (3,3), padding = 'same')(y)\n",
        "    y = LeakyReLU(alpha=0.1)(y)\n",
        "    y = BatchNormalization(axis=input_shape[2])(y)\n",
        "    y = MaxPooling2D(pool_size=(4,2), padding = 'same' , strides = (4,2))(y)\n",
        "    y = Dropout(0.1)(y)\n",
        "    \n",
        "    y = Conv2D(filters=128, kernel_size = (3,3), padding = 'same',  input_shape =input_shape)(y)\n",
        "    y = LeakyReLU(alpha=0.1)(y)\n",
        "    y = BatchNormalization(axis=input_shape[2])(y)\n",
        "    y = MaxPooling2D(pool_size=(4,2), padding = 'same' , strides = (4,2))(y)\n",
        "    y = Dropout(0.1)(y)\n",
        "    \n",
        "    y = Conv2D(filters=128, kernel_size = (3,3), padding = 'same', input_shape =input_shape)(y)\n",
        "    y = LeakyReLU(alpha=0.1)(y)\n",
        "    y = BatchNormalization(axis=input_shape[2])(y)\n",
        "    y = MaxPooling2D(pool_size=(4,2), padding = 'same' , strides = (4,2))(y)\n",
        "    y = Dropout(0.1)(y)\n",
        "    \n",
        "    y = Permute((2,1,3))(y)\n",
        "    y = Reshape((40, 128))(y)\n",
        "    \n",
        "    model = Model(inputs,y)\n",
        "\n",
        "    return model \n"
      ],
      "execution_count": 0,
      "outputs": []
    },
    {
      "cell_type": "code",
      "metadata": {
        "id": "MDfg7kycDMnY",
        "colab_type": "code",
        "colab": {}
      },
      "source": [
        "def cnn2D_30(b_shape):\n",
        "    \n",
        "    input_shape = (b_shape[1],b_shape[2],b_shape[3])\n",
        "    inputs = Input(shape=input_shape)\n",
        "    \n",
        "    x = inputs\n",
        "    x = Conv2D(filters=16, kernel_size = (7,7), padding = 'same', strides = 1, input_shape =input_shape)(x)\n",
        "    x = LeakyReLU(alpha=0.1)(x)\n",
        "    x = BatchNormalization(axis=input_shape[2])(x)\n",
        "    x = MaxPooling2D(pool_size=(4,2), padding = 'same' , strides = 2)(x)\n",
        "    x = Dropout(0.25)(x)\n",
        "\n",
        "    x = Conv2D(filters=32, kernel_size = (5,5), padding = 'same', strides = 1)(x)\n",
        "    x = LeakyReLU(alpha=0.1)(x)\n",
        "    x = BatchNormalization(axis=input_shape[2])(x)\n",
        "    x = MaxPooling2D(pool_size=(4,4), padding = 'same' , strides = 2)(x)\n",
        "    x = Dropout(0.25)(x)\n",
        "\n",
        "    x = Conv2D(filters=32, kernel_size = (3,3), padding = 'same', strides = 1)(x)\n",
        "    x = LeakyReLU(alpha=0.1)(x)\n",
        "    x = BatchNormalization(axis=input_shape[2])(x)\n",
        "    x = MaxPooling2D(pool_size=(4,4), padding = 'same' , strides = 2)(x)\n",
        "    x = Dropout(0.25)(x)\n",
        "\n",
        "    x = Conv2D(filters=32, kernel_size = (4,4), padding = 'same', strides = 1)(x)\n",
        "    x = LeakyReLU(alpha=0.1)(x)\n",
        "    x = BatchNormalization(axis=input_shape[2])(x)\n",
        "    x = MaxPooling2D(pool_size=(4,4), padding = 'same' , strides = 2)(x)\n",
        "    x = Dropout(0.4)(x)\n",
        "\n",
        "    x = Conv2D(filters=32, kernel_size = (4,4), padding = 'same', strides = 1)(x)\n",
        "    x = LeakyReLU(alpha=0.1)(x)\n",
        "    x = BatchNormalization(axis=input_shape[2])(x)\n",
        "    x = MaxPooling2D(pool_size=(4,4), padding = 'same' , strides = 2)(x)\n",
        "    x = Dropout(0.4)(x)\n",
        "    \n",
        "    x = Conv2D(filters=32, kernel_size = (4,4), padding = 'same', strides = 1)(x)\n",
        "    x = LeakyReLU(alpha=0.1)(x)\n",
        "    x = BatchNormalization(axis=input_shape[2])(x)\n",
        "    x = MaxPooling2D(pool_size=(4,4), padding = 'same' , strides = 2)(x)\n",
        "    x = Dropout(0.4)(x)\n",
        "\n",
        "    x = Flatten()(x)\n",
        "    x = Dense(59*128)(x)\n",
        "    x = Dropout(0.3)(x)\n",
        "    x = Reshape((59, 128))(x)\n",
        "\n",
        "\n",
        "    model = Model(inputs,x)\n",
        "\n",
        "    return model "
      ],
      "execution_count": 0,
      "outputs": []
    },
    {
      "cell_type": "code",
      "metadata": {
        "id": "52J_kW7aDMnb",
        "colab_type": "code",
        "colab": {}
      },
      "source": [
        "def cnn2D_spec_30(spec_x_shape):\n",
        "    \n",
        "    input_shape = (spec_x_shape[1], spec_x_shape[2], spec_x_shape[3])\n",
        "    inputs = Input(shape=input_shape)\n",
        "    \n",
        "    y = inputs\n",
        "    y = Conv2D(filters=64, kernel_size = (3,3), padding = 'same',  input_shape =input_shape)(y)\n",
        "    y = LeakyReLU(alpha=0.1)(y)\n",
        "    y = BatchNormalization(axis=input_shape[2])(y)\n",
        "    y = MaxPooling2D(pool_size=(2,2), padding = 'same' , strides = (2,2))(y)\n",
        "    y = Dropout(0.1)(y)\n",
        "    \n",
        "    y = Conv2D(filters=128, kernel_size = (3,3), padding = 'same')(y)\n",
        "    y = LeakyReLU(alpha=0.1)(y)\n",
        "    y = BatchNormalization(axis=input_shape[2])(y)\n",
        "    y = MaxPooling2D(pool_size=(4,2), padding = 'same' , strides = (4,2))(y)\n",
        "    y = Dropout(0.1)(y)\n",
        "    \n",
        "    y = Conv2D(filters=128, kernel_size = (3,3), padding = 'same',  input_shape =input_shape)(y)\n",
        "    y = LeakyReLU(alpha=0.1)(y)\n",
        "    y = BatchNormalization(axis=input_shape[2])(y)\n",
        "    y = MaxPooling2D(pool_size=(4,2), padding = 'same' , strides = (4,2))(y)\n",
        "    y = Dropout(0.1)(y)\n",
        "    \n",
        "    y = Conv2D(filters=128, kernel_size = (3,3), padding = 'same', input_shape =input_shape)(y)\n",
        "    y = LeakyReLU(alpha=0.1)(y)\n",
        "    y = BatchNormalization(axis=input_shape[2])(y)\n",
        "    y = MaxPooling2D(pool_size=(4,2), padding = 'same' , strides = (4,2))(y)\n",
        "    y = Dropout(0.1)(y)\n",
        "    \n",
        "    y = Permute((2,1,3))(y)\n",
        "    y = Reshape((59, 128))(y)\n",
        "    \n",
        "    model = Model(inputs,y)\n",
        "\n",
        "    return model \n"
      ],
      "execution_count": 0,
      "outputs": []
    },
    {
      "cell_type": "code",
      "metadata": {
        "id": "JgcR9N_NDMne",
        "colab_type": "code",
        "colab": {
          "base_uri": "https://localhost:8080/",
          "height": 496
        },
        "outputId": "a0d00546-ac4b-4304-8c48-e71da3397967"
      },
      "source": [
        "cnn2D_bar_20 = cnn2D_20(nb_train.shape)\n",
        "# cnn2D_bar_30 = cnn2D_30(nb_train.shape)\n",
        "\n",
        "cnn2D_spe_20 = cnn2D_spec_20(nspec_x_train.shape)\n",
        "# cnn2D_spe_30 = cnn2D_spec_30(nspec_x_train.shape)"
      ],
      "execution_count": 22,
      "outputs": [
        {
          "output_type": "stream",
          "text": [
            "WARNING:tensorflow:From /usr/local/lib/python3.6/dist-packages/keras/backend/tensorflow_backend.py:66: The name tf.get_default_graph is deprecated. Please use tf.compat.v1.get_default_graph instead.\n",
            "\n",
            "WARNING:tensorflow:From /usr/local/lib/python3.6/dist-packages/keras/backend/tensorflow_backend.py:541: The name tf.placeholder is deprecated. Please use tf.compat.v1.placeholder instead.\n",
            "\n",
            "WARNING:tensorflow:From /usr/local/lib/python3.6/dist-packages/keras/backend/tensorflow_backend.py:4432: The name tf.random_uniform is deprecated. Please use tf.random.uniform instead.\n",
            "\n",
            "WARNING:tensorflow:From /usr/local/lib/python3.6/dist-packages/keras/backend/tensorflow_backend.py:190: The name tf.get_default_session is deprecated. Please use tf.compat.v1.get_default_session instead.\n",
            "\n",
            "WARNING:tensorflow:From /usr/local/lib/python3.6/dist-packages/keras/backend/tensorflow_backend.py:197: The name tf.ConfigProto is deprecated. Please use tf.compat.v1.ConfigProto instead.\n",
            "\n",
            "WARNING:tensorflow:From /usr/local/lib/python3.6/dist-packages/keras/backend/tensorflow_backend.py:203: The name tf.Session is deprecated. Please use tf.compat.v1.Session instead.\n",
            "\n",
            "WARNING:tensorflow:From /usr/local/lib/python3.6/dist-packages/keras/backend/tensorflow_backend.py:207: The name tf.global_variables is deprecated. Please use tf.compat.v1.global_variables instead.\n",
            "\n",
            "WARNING:tensorflow:From /usr/local/lib/python3.6/dist-packages/keras/backend/tensorflow_backend.py:216: The name tf.is_variable_initialized is deprecated. Please use tf.compat.v1.is_variable_initialized instead.\n",
            "\n",
            "WARNING:tensorflow:From /usr/local/lib/python3.6/dist-packages/keras/backend/tensorflow_backend.py:223: The name tf.variables_initializer is deprecated. Please use tf.compat.v1.variables_initializer instead.\n",
            "\n",
            "WARNING:tensorflow:From /usr/local/lib/python3.6/dist-packages/keras/backend/tensorflow_backend.py:2041: The name tf.nn.fused_batch_norm is deprecated. Please use tf.compat.v1.nn.fused_batch_norm instead.\n",
            "\n",
            "WARNING:tensorflow:From /usr/local/lib/python3.6/dist-packages/keras/backend/tensorflow_backend.py:148: The name tf.placeholder_with_default is deprecated. Please use tf.compat.v1.placeholder_with_default instead.\n",
            "\n",
            "WARNING:tensorflow:From /usr/local/lib/python3.6/dist-packages/keras/backend/tensorflow_backend.py:4267: The name tf.nn.max_pool is deprecated. Please use tf.nn.max_pool2d instead.\n",
            "\n",
            "WARNING:tensorflow:From /usr/local/lib/python3.6/dist-packages/keras/backend/tensorflow_backend.py:3733: calling dropout (from tensorflow.python.ops.nn_ops) with keep_prob is deprecated and will be removed in a future version.\n",
            "Instructions for updating:\n",
            "Please use `rate` instead of `keep_prob`. Rate should be set to `rate = 1 - keep_prob`.\n"
          ],
          "name": "stdout"
        }
      ]
    },
    {
      "cell_type": "code",
      "metadata": {
        "id": "_hnf08tKDMng",
        "colab_type": "code",
        "colab": {}
      },
      "source": [
        "addedInput_20 = Add()([cnn2D_bar_20.output, cnn2D_spe_20.output])\n",
        "z_20 = BatchNormalization()(addedInput_20)\n",
        "z_20 = Dropout(0.4)(z_20)\n",
        "\n",
        "z_20 = GRU(32,return_sequences=True)(z_20)\n",
        "z_20 = GRU(32,return_sequences=False)(z_20)\n",
        "z_20 = Dropout(0.3)(z_20)\n",
        "\n",
        "z_20 = Dense(20)(z_20)\n",
        "z_20 = Activation(\"softmax\")(z_20)\n",
        "\n",
        "# addedInput_30 = Add()([cnn2D_bar_30.output, cnn2D_spe_30.output])\n",
        "# z_30 = BatchNormalization()(addedInput_30)\n",
        "# z_30 = Dropout(0.4)(z_30)\n",
        "\n",
        "# z_30 = GRU(32,return_sequences=True)(z_30)\n",
        "# z_30 = GRU(32,return_sequences=False)(z_30)\n",
        "# z_30 = Dropout(0.3)(z_30)\n",
        "\n",
        "# z_30 = Dense(20)(z_30)\n",
        "# z_30 = Activation(\"softmax\")(z_30)"
      ],
      "execution_count": 0,
      "outputs": []
    },
    {
      "cell_type": "code",
      "metadata": {
        "id": "0yG7EpEkDMnj",
        "colab_type": "code",
        "colab": {
          "base_uri": "https://localhost:8080/",
          "height": 343
        },
        "outputId": "c04e4d11-9ea1-49eb-f2a0-d1e56a5f0e2f"
      },
      "source": [
        "# CRTLnn_model_20 = Model(inputs=[cnn2D_bar_20.input,cnn2D_spe_20.input],outputs=z_20)\n",
        "# CRTLnn_model_30 = Model(inputs=[cnn2D_bar_30.input,cnn2D_spe_30.input],outputs=z_30)\n",
        "\n",
        "#Loaded the newest one\n",
        "CRTLnn_model_20 = load_model(\"CRTLnn_model_20_updated.h5\")\n",
        "# CRTLnn_model_30 = load_model(\"CRTLnn_model_30_updated.h5\")"
      ],
      "execution_count": 24,
      "outputs": [
        {
          "output_type": "stream",
          "text": [
            "WARNING:tensorflow:From /usr/local/lib/python3.6/dist-packages/tensorflow_core/python/ops/init_ops.py:97: calling VarianceScaling.__init__ (from tensorflow.python.ops.init_ops) with dtype is deprecated and will be removed in a future version.\n",
            "Instructions for updating:\n",
            "Call initializer instance with the dtype argument instead of passing it to the constructor\n",
            "WARNING:tensorflow:From /usr/local/lib/python3.6/dist-packages/tensorflow_core/python/ops/init_ops.py:97: calling Zeros.__init__ (from tensorflow.python.ops.init_ops) with dtype is deprecated and will be removed in a future version.\n",
            "Instructions for updating:\n",
            "Call initializer instance with the dtype argument instead of passing it to the constructor\n",
            "WARNING:tensorflow:From /usr/local/lib/python3.6/dist-packages/tensorflow_core/python/ops/init_ops.py:97: calling Ones.__init__ (from tensorflow.python.ops.init_ops) with dtype is deprecated and will be removed in a future version.\n",
            "Instructions for updating:\n",
            "Call initializer instance with the dtype argument instead of passing it to the constructor\n",
            "WARNING:tensorflow:From /usr/local/lib/python3.6/dist-packages/tensorflow_core/python/ops/init_ops.py:97: calling Orthogonal.__init__ (from tensorflow.python.ops.init_ops) with dtype is deprecated and will be removed in a future version.\n",
            "Instructions for updating:\n",
            "Call initializer instance with the dtype argument instead of passing it to the constructor\n",
            "WARNING:tensorflow:From /usr/local/lib/python3.6/dist-packages/tensorflow_core/python/ops/resource_variable_ops.py:1630: calling BaseResourceVariable.__init__ (from tensorflow.python.ops.resource_variable_ops) with constraint is deprecated and will be removed in a future version.\n",
            "Instructions for updating:\n",
            "If using Keras pass *_constraint arguments to layers.\n",
            "WARNING:tensorflow:From /usr/local/lib/python3.6/dist-packages/tensorflow_core/python/ops/math_grad.py:1424: where (from tensorflow.python.ops.array_ops) is deprecated and will be removed in a future version.\n",
            "Instructions for updating:\n",
            "Use tf.where in 2.0, which has the same broadcast rule as np.where\n"
          ],
          "name": "stdout"
        }
      ]
    },
    {
      "cell_type": "markdown",
      "metadata": {
        "id": "qD3zDkviDMnm",
        "colab_type": "text"
      },
      "source": [
        "# Train and Test model"
      ]
    },
    {
      "cell_type": "code",
      "metadata": {
        "colab_type": "code",
        "id": "1Gad_ZBlR-lk",
        "colab": {
          "base_uri": "https://localhost:8080/",
          "height": 1000
        },
        "outputId": "0a3d21a9-0117-42fe-d707-acee3eee739f"
      },
      "source": [
        "train_model(CRTLnn_model_20,20,5,0.001)"
      ],
      "execution_count": 28,
      "outputs": [
        {
          "output_type": "stream",
          "text": [
            "Train on 12130 samples, validate on 1501 samples\n",
            "Epoch 1/5\n",
            "12128/12130 [============================>.] - ETA: 0s - loss: 0.1012 - acc: 0.9702\n",
            "Epoch 00001: val_acc improved from -inf to 0.75616, saving model to /content/drive/My Drive/src/artist20/weights/CRTLnn_weights.best.hdf5\n",
            "12130/12130 [==============================] - 150s 12ms/sample - loss: 0.1013 - acc: 0.9702 - val_loss: 1.2088 - val_acc: 0.7562\n",
            "Epoch 2/5\n",
            "12128/12130 [============================>.] - ETA: 0s - loss: 0.1055 - acc: 0.9704\n",
            "Epoch 00002: val_acc improved from 0.75616 to 0.77415, saving model to /content/drive/My Drive/src/artist20/weights/CRTLnn_weights.best.hdf5\n",
            "12130/12130 [==============================] - 147s 12ms/sample - loss: 0.1057 - acc: 0.9703 - val_loss: 1.1925 - val_acc: 0.7742\n",
            "Epoch 3/5\n",
            "12128/12130 [============================>.] - ETA: 0s - loss: 0.0931 - acc: 0.9732\n",
            "Epoch 00003: val_acc did not improve from 0.77415\n",
            "12130/12130 [==============================] - 145s 12ms/sample - loss: 0.0941 - acc: 0.9730 - val_loss: 1.7029 - val_acc: 0.6809\n",
            "Epoch 4/5\n",
            "12128/12130 [============================>.] - ETA: 0s - loss: 0.1018 - acc: 0.9717\n",
            "Epoch 00004: val_acc did not improve from 0.77415\n",
            "12130/12130 [==============================] - 145s 12ms/sample - loss: 0.1018 - acc: 0.9717 - val_loss: 1.4939 - val_acc: 0.7129\n",
            "Epoch 5/5\n",
            "12128/12130 [============================>.] - ETA: 0s - loss: 0.0734 - acc: 0.9790\n",
            "Epoch 00005: val_acc did not improve from 0.77415\n",
            "12130/12130 [==============================] - 145s 12ms/sample - loss: 0.0734 - acc: 0.9790 - val_loss: 1.0757 - val_acc: 0.7742\n",
            "1563/1563 [==============================] - 6s 4ms/sample - loss: 1.1535 - acc: 0.7498\n",
            "Final loss: 1.153474, final accuracy: 0.749840\n"
          ],
          "name": "stdout"
        },
        {
          "output_type": "display_data",
          "data": {
            "image/png": "[encoded data removed]",
            "text/plain": [
              "<Figure size 1152x576 with 2 Axes>"
            ]
          },
          "metadata": {
            "tags": []
          }
        },
        {
          "output_type": "stream",
          "text": [
            "1563/1563 [==============================] - 7s 4ms/sample\n",
            "                              precision    recall  f1-score   support\n",
            "\n",
            "                   aerosmith       0.54      0.89      0.67        38\n",
            "                     beatles       0.70      0.87      0.78        78\n",
            "creedence_clearwater_revival       0.89      0.92      0.91       105\n",
            "                        cure       0.95      0.52      0.68       141\n",
            "          dave_matthews_band       0.90      0.73      0.81       147\n",
            "                depeche_mode       0.53      0.89      0.66        54\n",
            "               fleetwood_mac       0.52      0.70      0.60        33\n",
            "                garth_brooks       0.44      0.97      0.61        36\n",
            "                   green_day       0.82      0.81      0.82        86\n",
            "                led_zeppelin       0.96      0.41      0.58       162\n",
            "                     madonna       0.69      0.83      0.75        87\n",
            "                   metallica       0.91      0.92      0.91       161\n",
            "                      prince       0.86      0.67      0.75        66\n",
            "                       queen       0.27      0.62      0.38        34\n",
            "                   radiohead       0.68      0.65      0.67        52\n",
            "                     roxette       0.93      0.54      0.68        24\n",
            "                  steely_dan       0.90      0.85      0.88        55\n",
            "                suzanne_vega       0.80      0.88      0.84        73\n",
            "                   tori_amos       0.82      0.77      0.80        53\n",
            "                          u2       0.75      0.82      0.79        78\n",
            "\n",
            "                    accuracy                           0.75      1563\n",
            "                   macro avg       0.74      0.76      0.73      1563\n",
            "                weighted avg       0.81      0.75      0.75      1563\n",
            "\n",
            "Train on 12130 samples, validate on 1501 samples\n",
            "Epoch 1/5\n",
            "12128/12130 [============================>.] - ETA: 0s - loss: 0.2612 - acc: 0.9238\n",
            "Epoch 00001: val_acc improved from -inf to 0.71286, saving model to /content/drive/My Drive/src/artist20/weights/CRTLnn_weights_30.best.hdf5\n",
            "12130/12130 [==============================] - 185s 15ms/sample - loss: 0.2614 - acc: 0.9237 - val_loss: 1.4502 - val_acc: 0.7129\n",
            "Epoch 2/5\n",
            "12128/12130 [============================>.] - ETA: 0s - loss: 0.1858 - acc: 0.9456\n",
            "Epoch 00002: val_acc improved from 0.71286 to 0.77815, saving model to /content/drive/My Drive/src/artist20/weights/CRTLnn_weights_30.best.hdf5\n",
            "12130/12130 [==============================] - 184s 15ms/sample - loss: 0.1864 - acc: 0.9455 - val_loss: 1.0177 - val_acc: 0.7781\n",
            "Epoch 3/5\n",
            "12128/12130 [============================>.] - ETA: 0s - loss: 0.1753 - acc: 0.9518\n",
            "Epoch 00003: val_acc did not improve from 0.77815\n",
            "12130/12130 [==============================] - 183s 15ms/sample - loss: 0.1755 - acc: 0.9517 - val_loss: 1.1046 - val_acc: 0.7715\n",
            "Epoch 4/5\n",
            "12128/12130 [============================>.] - ETA: 0s - loss: 0.1715 - acc: 0.9488\n",
            "Epoch 00004: val_acc improved from 0.77815 to 0.78414, saving model to /content/drive/My Drive/src/artist20/weights/CRTLnn_weights_30.best.hdf5\n",
            "12130/12130 [==============================] - 184s 15ms/sample - loss: 0.1716 - acc: 0.9487 - val_loss: 0.9200 - val_acc: 0.7841\n",
            "Epoch 5/5\n",
            "12128/12130 [============================>.] - ETA: 0s - loss: 0.1760 - acc: 0.9509\n",
            "Epoch 00005: val_acc did not improve from 0.78414\n",
            "12130/12130 [==============================] - 183s 15ms/sample - loss: 0.1761 - acc: 0.9509 - val_loss: 1.1328 - val_acc: 0.7748\n",
            "1563/1563 [==============================] - 6s 4ms/sample - loss: 0.9328 - acc: 0.7780\n",
            "Final loss: 0.932755, final accuracy: 0.777991\n"
          ],
          "name": "stdout"
        },
        {
          "output_type": "display_data",
          "data": {
            "image/png": "[encoded data removed]",
            "text/plain": [
              "<Figure size 1152x576 with 2 Axes>"
            ]
          },
          "metadata": {
            "tags": []
          }
        },
        {
          "output_type": "stream",
          "text": [
            "1563/1563 [==============================] - 7s 4ms/sample\n",
            "                              precision    recall  f1-score   support\n",
            "\n",
            "                   aerosmith       0.70      0.87      0.78        38\n",
            "                     beatles       0.85      0.82      0.84        78\n",
            "creedence_clearwater_revival       0.91      0.94      0.93       105\n",
            "                        cure       0.91      0.44      0.59       141\n",
            "          dave_matthews_band       0.93      0.74      0.83       147\n",
            "                depeche_mode       0.68      0.96      0.79        54\n",
            "               fleetwood_mac       0.94      0.52      0.67        33\n",
            "                garth_brooks       0.94      0.89      0.91        36\n",
            "                   green_day       0.94      0.87      0.90        86\n",
            "                led_zeppelin       0.95      0.75      0.84       162\n",
            "                     madonna       0.51      0.90      0.65        87\n",
            "                   metallica       0.95      0.93      0.94       161\n",
            "                      prince       0.91      0.44      0.59        66\n",
            "                       queen       0.49      0.76      0.60        34\n",
            "                   radiohead       0.42      0.90      0.57        52\n",
            "                     roxette       0.57      0.83      0.68        24\n",
            "                  steely_dan       0.91      0.53      0.67        55\n",
            "                suzanne_vega       0.75      0.85      0.79        73\n",
            "                   tori_amos       0.90      0.89      0.90        53\n",
            "                          u2       0.64      0.82      0.72        78\n",
            "\n",
            "                    accuracy                           0.78      1563\n",
            "                   macro avg       0.79      0.78      0.76      1563\n",
            "                weighted avg       0.83      0.78      0.78      1563\n",
            "\n"
          ],
          "name": "stdout"
        }
      ]
    },
    {
      "cell_type": "code",
      "metadata": {
        "colab_type": "code",
        "id": "Nk1z5cadCxgw",
        "colab": {}
      },
      "source": [
        ""
      ],
      "execution_count": 0,
      "outputs": []
    }
  ]
}