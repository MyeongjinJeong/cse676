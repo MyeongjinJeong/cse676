{
  "nbformat": 4,
  "nbformat_minor": 0,
  "metadata": {
    "accelerator": "GPU",
    "colab": {
      "name": "CTLRnn_updated.ipynb",
      "provenance": [],
      "collapsed_sections": [],
      "machine_shape": "hm"
    },
    "kernelspec": {
      "display_name": "Python 3",
      "language": "python",
      "name": "python3"
    },
    "language_info": {
      "codemirror_mode": {
        "name": "ipython",
        "version": 3
      },
      "file_extension": ".py",
      "mimetype": "text/x-python",
      "name": "python",
      "nbconvert_exporter": "python",
      "pygments_lexer": "ipython3",
      "version": "3.7.3"
    },
    "latex_envs": {
      "LaTeX_envs_menu_present": true,
      "autoclose": false,
      "autocomplete": true,
      "bibliofile": "biblio.bib",
      "cite_by": "apalike",
      "current_citInitial": 1,
      "eqLabelWithNumbers": true,
      "eqNumInitial": 1,
      "hotkeys": {
        "equation": "Ctrl-E",
        "itemize": "Ctrl-I"
      },
      "labels_anchors": false,
      "latex_user_defs": false,
      "report_style_numbering": false,
      "user_envs_cfg": false
    }
  },
  "cells": [
    {
      "cell_type": "code",
      "metadata": {
        "colab_type": "code",
        "id": "-EOtExRtw7iQ",
        "colab": {
          "base_uri": "https://localhost:8080/",
          "height": 80
        },
        "outputId": "f597da34-6038-438a-c9a5-8417fb894563"
      },
      "source": [
        "import os\n",
        "import dill\n",
        "import random\n",
        "import librosa\n",
        "import librosa.display\n",
        "import numpy as np\n",
        "import matplotlib.pyplot as plt\n",
        "import gudhi \n",
        "import tensorflow as tf\n",
        "\n",
        "\n",
        "from sklearn import preprocessing\n",
        "from keras.utils import to_categorical\n",
        "from keras.models import Sequential\n",
        "from keras.layers import Flatten, Input, concatenate,Permute, Reshape, GRU,Add\n",
        "from keras.layers import Dense, Conv2D, Dropout, Flatten, MaxPooling2D ,LeakyReLU ,BatchNormalization ,MaxPooling2D , Activation\n",
        "from keras.optimizers import Adam\n",
        "from keras.models import Model\n",
        "from keras.callbacks import ModelCheckpoint\n",
        "from tensorflow.keras.models import load_model\n",
        "from sklearn.metrics import classification_report\n",
        "from keras.utils import plot_model\n",
        "\n",
        "from PIL import Image\n",
        "from matplotlib import image\n",
        "from matplotlib import pyplot\n"
      ],
      "execution_count": 2,
      "outputs": [
        {
          "output_type": "display_data",
          "data": {
            "text/html": [
              "<p style=\"color: red;\">\n",
              "The default version of TensorFlow in Colab will soon switch to TensorFlow 2.x.<br>\n",
              "We recommend you <a href=\"https://www.tensorflow.org/guide/migrate\" target=\"_blank\">upgrade</a> now \n",
              "or ensure your notebook will continue to use TensorFlow 1.x via the <code>%tensorflow_version 1.x</code> magic:\n",
              "<a href=\"https://colab.research.google.com/notebooks/tensorflow_version.ipynb\" target=\"_blank\">more info</a>.</p>\n"
            ],
            "text/plain": [
              "<IPython.core.display.HTML object>"
            ]
          },
          "metadata": {
            "tags": []
          }
        },
        {
          "output_type": "stream",
          "text": [
            "Using TensorFlow backend.\n"
          ],
          "name": "stderr"
        }
      ]
    },
    {
      "cell_type": "markdown",
      "metadata": {
        "id": "jnGgq3OcDOR1",
        "colab_type": "text"
      },
      "source": [
        "# Presetting"
      ]
    },
    {
      "cell_type": "code",
      "metadata": {
        "id": "RMEMkEx3DOR2",
        "colab_type": "code",
        "colab": {}
      },
      "source": [
        "artist_folder='artists' \n",
        "save_folder='Total_data'\n",
        "barcode_folder='barcode'\n",
        "song_folder='song_data'\n",
        "diagram_folder = 'diagram'\n",
        "savemodel_folder = 'modelsave'\n",
        "\n",
        "sr = 16000\n",
        "# n_mels =128\n",
        "# n_mels =256\n",
        "\n",
        "train_ratio = 0.8\n",
        "val_ratio = 0.1\n",
        "test_ratio = 0.1\n",
        "seconds = 20\n",
        "# seconds = 30\n",
        "\n",
        "epochs = 1\n",
        "learning_rate = 1e-3"
      ],
      "execution_count": 0,
      "outputs": []
    },
    {
      "cell_type": "markdown",
      "metadata": {
        "id": "rMN2Gs7hDOR5",
        "colab_type": "text"
      },
      "source": [
        "# Function"
      ]
    },
    {
      "cell_type": "code",
      "metadata": {
        "id": "VpDG9NK1DOR6",
        "colab_type": "code",
        "colab": {}
      },
      "source": [
        "def generate_barcode_dataset(artist_folder='artists',barcode_folder='barcode',save_folder='Total_data',sr = 16000, n_mels = 256):\n",
        "    '''\n",
        "    D.Ellis(2007) Classitying Music Audio with Timbral and Chroma Features. Proc. Int. Conf. on Music Information Retrieval ISMIR-07, Vienna, Austria, Sep. 2007\n",
        "    Zain Nasrullah, Yue Zhao(2019) Music Artist Classification with Convolutional Recurrent Neural Networks Proceedings of the 2019 International Joint Conference on Neural Networks (IJCNN)\n",
        "    I got an idea from these two papers. \n",
        "    '''\n",
        "    os.makedirs(barcode_folder, exist_ok=True)\n",
        "    os.makedirs(save_folder, exist_ok=True)\n",
        "    \n",
        "    musicians = os.listdir(artist_folder)\n",
        "    for musician in musicians:\n",
        "        musician_path = os.path.join(artist_folder, musician)\n",
        "        collections = os.listdir(musician_path)\n",
        "        for album in collections:\n",
        "            album_path = os.path.join(musician_path, album)\n",
        "            songs = os.listdir(album_path)\n",
        "            for song in songs:\n",
        "                song_path = os.path.join(album_path, song) \n",
        "\n",
        "                #  Load the audio as a waveform 'y_raw' and Store the sampling rate as 'sr'\n",
        "                y_raw, sr = librosa.load(song_path)\n",
        "\n",
        "                # Generate point cloud \n",
        "                point_cloud_x=[]\n",
        "                point_cloud_y=[]\n",
        "                point_cloud=[]\n",
        "\n",
        "                # Normalize points\n",
        "                def projection(X, x_min, x_max):\n",
        "                    norm = (X-X.min(axis=0))*(x_max-x_min)\n",
        "                    denorm = X.max(axis=0) - X.min(axis=0)\n",
        "                    denorm[denorm==0] = 1\n",
        "                    return x_min + norm/denorm \n",
        "\n",
        "                for i,j in enumerate(y_raw):\n",
        "                    if i%50000 ==0:\n",
        "                        point_cloud_x.append(i)\n",
        "                        point_cloud_y.append(j)\n",
        "                        point_cloud.append([i,j])\n",
        "\n",
        "                normalized_point_cloud = projection(np.asarray(point_cloud),-1,1)\n",
        "\n",
        "                # Generate barcode charts\n",
        "                rips_complex = gudhi.RipsComplex(points=normalized_point_cloud)\n",
        "                simplex_tree = rips_complex.create_simplex_tree(max_dimension=3)\n",
        "                diag = simplex_tree.persistence(homology_coeff_field=2, min_persistence=0)\n",
        "\n",
        "                # Plot raw barcode chart and modify it\n",
        "                plt.figure(figsize=(10,4))\n",
        "                plt = gudhi.plot_persistence_barcode(diag)\n",
        "                barcode_path = os.path.join(barcode_folder, song)\n",
        "                plt.tight_layout()            \n",
        "                plt.savefig(barcode_path + \".jpg\")\n",
        "                # load and create a cropped image\n",
        "                image1 = Image.open(barcode_path+ \".jpg\")\n",
        "                cropped = image1.crop((36, 24, 720, 260))\n",
        "                # save cropped image and load the image again\n",
        "                cropped.save(barcode_path+ \".jpg\")\n",
        "                image2 = Image.open(barcode_path+ \".jpg\")\n",
        "                # store the image\n",
        "                data = image.imread(barcode_path+ \".jpg\")\n",
        "                barcode_data = (musician, data, song)\n",
        "\n",
        "                # Save each barcode chart\n",
        "                save_name = musician + '_##_' + album + '_##_' + song\n",
        "                save_integrated_path = os.path.join(save_folder, save_name)\n",
        "                with open(save_integrated_path, 'wb') as f:\n",
        "                    dill.dump(barcode_data, f)"
      ],
      "execution_count": 0,
      "outputs": []
    },
    {
      "cell_type": "code",
      "metadata": {
        "id": "1BhmOqyaDOR8",
        "colab_type": "code",
        "colab": {}
      },
      "source": [
        "def generate_spec_dataset(artist_folder='artists',song_folder='song_data',sr = 16000, n_mels = 128):\n",
        "\n",
        "    os.makedirs(song_folder, exist_ok=True)\n",
        "    \n",
        "    musicians = os.listdir(artist_folder)\n",
        "    for musician in musicians:\n",
        "        musician_path = os.path.join(artist_folder, musician)\n",
        "        collections = os.listdir(musician_path)\n",
        "        for album in collections:\n",
        "            album_path = os.path.join(musician_path, album)\n",
        "            songs = os.listdir(album_path)\n",
        "            for song in songs:\n",
        "                song_path = os.path.join(album_path, song) \n",
        "\n",
        "                #  Load the audio as a waveform 'y_raw' and Store the sampling rate as 'sr'\n",
        "                y_raw, sr = librosa.load(song_path)\n",
        "\n",
        "                Spec = librosa.feature.melspectrogram(y=y_raw, sr=sr, n_mels=n_mels,fmax=8000) \n",
        "                Spec_dB = librosa.power_to_db(S, ref=np.max)\n",
        "                \n",
        "                spect_data = (musician, spec_dB, song)\n",
        "\n",
        "                # Save each spectrogram\n",
        "                save_name = musician + '_##_' + album + '_##_' + song\n",
        "                save_integrated_path = os.path.join(song_folder, save_name)\n",
        "                with open(save_integrated_path, 'wb') as f:\n",
        "                    dill.dump(spect_data, f)"
      ],
      "execution_count": 0,
      "outputs": []
    },
    {
      "cell_type": "code",
      "metadata": {
        "colab_type": "code",
        "id": "6LumnvVO7FUj",
        "colab": {}
      },
      "source": [
        "def split_dataset(save_folder=save_folder, artist_folder=artist_folder, train_ratio=train_ratio, val_ratio=val_ratio, test_ratio=test_ratio):\n",
        "    artist_list = os.listdir(artist_folder)\n",
        "    song_list = os.listdir(save_folder)\n",
        "    \n",
        "    index = list(range(len(song_list)))\n",
        "    np.random.seed(42)\n",
        "    np.random.shuffle(index)\n",
        "\n",
        "    train_index = int(len(song_list)*train_ratio)\n",
        "    val_index = int(len(song_list)*val_ratio)\n",
        "\n",
        "    sample_train = [song_list[i] for i in index[:train_index]]\n",
        "    sample_val = [song_list[i] for i in index[train_index:train_index+val_index]]\n",
        "    sample_test = [song_list[i] for i in index[train_index+val_index:]]\n",
        "\n",
        "    print(\"The number of sample train: \", len(sample_train))\n",
        "    print(\"The number of sample val: \", len(sample_val))\n",
        "    print(\"The number of sample test: \",len(sample_test))\n",
        "    \n",
        "    \n",
        "    return sample_train, sample_val, sample_test"
      ],
      "execution_count": 0,
      "outputs": []
    },
    {
      "cell_type": "code",
      "metadata": {
        "id": "arGg-DYADOSB",
        "colab_type": "code",
        "colab": {}
      },
      "source": [
        "def get_each_dataset(dataset, save_folder=save_folder, song_folder=song_folder):\n",
        "    specs = []\n",
        "    barcodes = []\n",
        "    artists = []\n",
        "    songs = []\n",
        "    \n",
        "    for song in dataset:\n",
        "        songs_path = os.path.join(save_folder, song)\n",
        "        spec_song_path = os.path.join(song_folder, song)\n",
        "    \n",
        "        with open(songs_path, 'rb') as f:\n",
        "            data = dill.load(f)\n",
        "            artists.append(data[0])\n",
        "            barcodes.append(data[1])\n",
        "            songs.append(data[2])\n",
        "\n",
        "        with open(spec_song_path, 'rb') as fs:\n",
        "            data_s = dill.load(fs)\n",
        "            specs.append(data_s[1])\n",
        "    \n",
        "    return specs, barcodes, artists, songs"
      ],
      "execution_count": 0,
      "outputs": []
    },
    {
      "cell_type": "code",
      "metadata": {
        "colab_type": "code",
        "id": "ewtcl0FK7PfQ",
        "colab": {}
      },
      "source": [
        "def split_specs_into_subspecs(specs,barcodes,artists,songs, seconds = seconds):\n",
        "    \n",
        "    sliced_specs = []\n",
        "    sliced_barcodes = []\n",
        "    sliced_artists = []\n",
        "    sliced_songs = []\n",
        "    length = int((seconds*31) + 8)\n",
        "    \n",
        "    i = 0\n",
        "    for song in specs:\n",
        "        num_slices = int(song.shape[1] / length)\n",
        "        for j in range (num_slices - 1):    \n",
        "            sliced_specs.append(song[:, length * j:length * (j + 1)])\n",
        "            sliced_barcodes.append(barcodes[i])\n",
        "            sliced_artists.append(artists[i])\n",
        "            sliced_songs.append(songs[i])\n",
        "        i+=1\n",
        "    \n",
        "    na_sliced_specs = np.array(sliced_specs)\n",
        "    na_sliced_barcodes = np.array(sliced_barcodes)\n",
        "    na_sliced_artists = np.array(sliced_artists)\n",
        "    na_sliced_songs = np.array(sliced_songs)\n",
        "\n",
        "    new_sliced_specs = np.reshape(na_sliced_specs,na_sliced_specs.shape +(1,))\n",
        "    \n",
        "    return new_sliced_specs, na_sliced_barcodes, na_sliced_artists, na_sliced_songs"
      ],
      "execution_count": 0,
      "outputs": []
    },
    {
      "cell_type": "code",
      "metadata": {
        "colab_type": "code",
        "id": "v2PC8Olcxvmo",
        "colab": {}
      },
      "source": [
        "def one_hot_encoded(ny_train,ny_val,ny_test):\n",
        "    \n",
        "    le = preprocessing.LabelEncoder()\n",
        "    le.fit(ny_train)\n",
        "\n",
        "    print('Classes: ',le.classes_)\n",
        "\n",
        "    encoded_y_train = to_categorical(le.transform(ny_train))\n",
        "    encoded_y_val = to_categorical(le.transform(ny_val))\n",
        "    encoded_y_test = to_categorical(le.transform(ny_test))\n",
        "\n",
        "    return encoded_y_train, encoded_y_val, encoded_y_test"
      ],
      "execution_count": 0,
      "outputs": []
    },
    {
      "cell_type": "code",
      "metadata": {
        "colab_type": "code",
        "id": "AhrGtL51Cxjx",
        "colab": {}
      },
      "source": [
        "def diaggram_model(model):\n",
        "    diagram_folder = 'diagram'\n",
        "    os.makedirs(diagram_folder, exist_ok=True)\n",
        "    diagram_path = os.path.join(diagram_folder, str(model))\n",
        "    plot_model(model, show_shapes =True, to_file=diagram_path+\".png\")"
      ],
      "execution_count": 0,
      "outputs": []
    },
    {
      "cell_type": "code",
      "metadata": {
        "colab_type": "code",
        "id": "e6S1FeCXR-zI",
        "colab": {}
      },
      "source": [
        "def plot_loss_accuracy(model,history):\n",
        "    # Graph for accuracy\n",
        "    plt.figure(figsize=(16,8))\n",
        "    plt.subplot(1,2,1)\n",
        "    plt.plot(history.history['acc'])\n",
        "    plt.plot(history.history['val_acc'])\n",
        "    plt.title(str(model)+ ' model accuracy')\n",
        "    plt.ylabel('accuracy')\n",
        "    plt.xlabel('epoch')\n",
        "    plt.legend(['train', 'val'], loc='upper left')\n",
        "    \n",
        "    # Graph for loss\n",
        "    plt.subplot(1,2,2)\n",
        "    plt.plot(history.history['loss'])\n",
        "    plt.plot(history.history['val_loss'])\n",
        "    plt.title(str(model)+ 'model loss')\n",
        "    plt.ylabel('loss')\n",
        "    plt.xlabel('epoch')\n",
        "    plt.legend(['train', 'val'], loc='upper left')\n",
        "    plt.show()"
      ],
      "execution_count": 0,
      "outputs": []
    },
    {
      "cell_type": "code",
      "metadata": {
        "id": "68-4SKbSDOSV",
        "colab_type": "code",
        "colab": {}
      },
      "source": [
        "def train_model(model,seconds=30,epochs=1,learning_rate =1e-3 ):\n",
        "    \n",
        "    opt = tf.keras.optimizers.Adam(lr=learning_rate)\n",
        "    model.compile(loss=\"categorical_crossentropy\", metrics=['acc'], optimizer=opt)\n",
        "    \n",
        "    # Check batch size based on seconds\n",
        "    if seconds == 20:\n",
        "        batch_size = 32\n",
        "        \n",
        "        best_weights_file = \"CTLRnn_weights.best.hdf5\"\n",
        "        checkpoint = ModelCheckpoint(best_weights_file, monitor='val_acc', verbose=1, save_best_only=True, mode='max')\n",
        "        callbacks = [checkpoint]    \n",
        "\n",
        "        # Train the model\n",
        "        history = model.fit([nb_train,nspec_x_train], encoded_y_train, verbose=1, epochs=epochs, callbacks=callbacks,\n",
        "               validation_data=([nb_val,nspec_x_val],encoded_y_val), batch_size=batch_size, shuffle=True)\n",
        "        \n",
        "        # Load weights and Obtain final loss and accuracy for test data\n",
        "        model.load_weights(best_weights_file)\n",
        "        Final_loss, Final_accuracy = model.evaluate([nb_test,nspec_x_test], encoded_y_test, verbose=1)\n",
        "        print(\"Final loss: {0:.6f}, final accuracy: {1:.6f}\".format(Final_loss, Final_accuracy)) \n",
        "        \n",
        "        # Plot loss and accuracy and save it\n",
        "        plot_loss_accuracy(model,history)\n",
        "        # Graph for accuracy\n",
        "        plt.figure(figsize=(16,8))\n",
        "        plt.subplot(1,2,1)\n",
        "        plt.plot(history.history['acc'])\n",
        "        plt.plot(history.history['val_acc'])\n",
        "        plt.title(str(model)+ ' model accuracy')\n",
        "        plt.ylabel('accuracy')\n",
        "        plt.xlabel('epoch')\n",
        "        plt.legend(['train', 'val'], loc='upper left')\n",
        "        \n",
        "        # Graph for loss\n",
        "        plt.subplot(1,2,2)\n",
        "        plt.plot(history.history['loss'])\n",
        "        plt.plot(history.history['val_loss'])\n",
        "        plt.title(str(model)+ 'model loss')\n",
        "        plt.ylabel('loss')\n",
        "        plt.xlabel('epoch')\n",
        "        plt.legend(['train', 'val'], loc='upper left')\n",
        "        plt.savefig(\"CRTLnn_model_20_AL.png\" ,bbox_inches=\"tight\")\n",
        "        plt.close()\n",
        "        \n",
        "        # Save model\n",
        "        model.save(\"CTLRnn_model_20_updated.h5\")  \n",
        "      \n",
        "        \n",
        "        # Obtain classfication report\n",
        "        le = preprocessing.LabelEncoder()\n",
        "        le.fit(ny_train)\n",
        "        y_pred = model.predict([nb_test,nspec_x_test], batch_size = batch_size, verbose=1)\n",
        "        y_pred_bool = np.argmax(y_pred, axis=1)\n",
        "        encoded_y_test_bool = np.argmax(encoded_y_test, axis=1)\n",
        "        print(classification_report(encoded_y_test_bool, y_pred_bool,target_names=le.classes_))\n",
        "        \n",
        "    batch_size = 16\n",
        "    best_weights_file = \"CTLRnn_weights_30.best.hdf5\"\n",
        "    checkpoint = ModelCheckpoint(best_weights_file, monitor='val_acc', verbose=1, save_best_only=True, mode='max')\n",
        "    callbacks = [checkpoint]\n",
        "\n",
        "    history = model.fit([nb_train,nspec_x_train], encoded_y_train, verbose=1, epochs=epochs, callbacks=callbacks,\n",
        "               validation_data=([nb_val,nspec_x_val],encoded_y_val), batch_size=16, shuffle=True)\n",
        "\n",
        "    # Load weights and Obtain final loss and accuracy for test data\n",
        "    model.load_weights(best_weights_file)\n",
        "    Final_loss, Final_accuracy = model.evaluate([nb_test,nspec_x_test], encoded_y_test, verbose=1)\n",
        "    print(\"Final loss: {0:.6f}, final accuracy: {1:.6f}\".format(Final_loss, Final_accuracy)) \n",
        "\n",
        "    # Plot loss and accuracy and save \n",
        "    plot_loss_accuracy(model,history)\n",
        "    \n",
        "    # Graph for accuracy\n",
        "    plt.figure(figsize=(16,8))\n",
        "    plt.subplot(1,2,1)\n",
        "    plt.plot(history.history['acc'])\n",
        "    plt.plot(history.history['val_acc'])\n",
        "    plt.title(str(model)+ ' model accuracy')\n",
        "    plt.ylabel('accuracy')\n",
        "    plt.xlabel('epoch')\n",
        "    plt.legend(['train', 'val'], loc='upper left')\n",
        "    \n",
        "    # Graph for loss\n",
        "    plt.subplot(1,2,2)\n",
        "    plt.plot(history.history['loss'])\n",
        "    plt.plot(history.history['val_loss'])\n",
        "    plt.title(str(model)+ 'model loss')\n",
        "    plt.ylabel('loss')\n",
        "    plt.xlabel('epoch')\n",
        "    plt.legend(['train', 'val'], loc='upper left')\n",
        "    plt.savefig(\"CRTLnn_model_30_AL.png\" ,bbox_inches=\"tight\")\n",
        "    plt.close()\n",
        "\n",
        "    # Save model\n",
        "    model.save(\"CTLRnn_model_30_updated.h5\")  \n",
        "\n",
        "    # Obtain classfication report\n",
        "    le = preprocessing.LabelEncoder()\n",
        "    le.fit(ny_train)\n",
        "    y_pred = model.predict([nb_test,nspec_x_test], batch_size = batch_size, verbose=1)\n",
        "    y_pred_bool = np.argmax(y_pred, axis=1)\n",
        "    encoded_y_test_bool = np.argmax(encoded_y_test, axis=1)\n",
        "    print(classification_report(encoded_y_test_bool, y_pred_bool,target_names=le.classes_))"
      ],
      "execution_count": 0,
      "outputs": []
    },
    {
      "cell_type": "markdown",
      "metadata": {
        "id": "S0UyYUSqDOSX",
        "colab_type": "text"
      },
      "source": [
        "# Setting"
      ]
    },
    {
      "cell_type": "code",
      "metadata": {
        "scrolled": true,
        "id": "cqH_RU_zDOSY",
        "colab_type": "code",
        "colab": {
          "base_uri": "https://localhost:8080/",
          "height": 68
        },
        "outputId": "931d9cc6-ab3e-457d-f66c-b5823ce78d65"
      },
      "source": [
        "sample_train, sample_val, sample_test = split_dataset()"
      ],
      "execution_count": 13,
      "outputs": [
        {
          "output_type": "stream",
          "text": [
            "The number of sample train:  1130\n",
            "The number of sample val:  141\n",
            "The number of sample test:  142\n"
          ],
          "name": "stdout"
        }
      ]
    },
    {
      "cell_type": "code",
      "metadata": {
        "id": "zMjq02dqDOSa",
        "colab_type": "code",
        "colab": {}
      },
      "source": [
        "spec_train, b_train, y_train, s_train = get_each_dataset(sample_train)\n",
        "spec_val, b_val, y_val, s_val = get_each_dataset(sample_val)\n",
        "spec_test, b_test, y_test, s_test = get_each_dataset(sample_test)"
      ],
      "execution_count": 0,
      "outputs": []
    },
    {
      "cell_type": "code",
      "metadata": {
        "id": "1czNvr2bDOSc",
        "colab_type": "code",
        "colab": {}
      },
      "source": [
        "nspec_x_train, nb_train ,ny_train, ns_train = split_specs_into_subspecs(spec_train,b_train,y_train,s_train,seconds)\n",
        "nspec_x_val, nb_val ,ny_val, ns_val = split_specs_into_subspecs(spec_val,b_val,y_val,s_val,seconds)\n",
        "nspec_x_test, nb_test ,ny_test, ns_test = split_specs_into_subspecs(spec_test,b_test,y_test,s_test,seconds)"
      ],
      "execution_count": 0,
      "outputs": []
    },
    {
      "cell_type": "code",
      "metadata": {
        "scrolled": true,
        "id": "rapLYQiqDOSe",
        "colab_type": "code",
        "colab": {
          "base_uri": "https://localhost:8080/",
          "height": 85
        },
        "outputId": "4f19c89f-ee31-421a-9d52-ddbffa5c4abf"
      },
      "source": [
        "encoded_y_train, encoded_y_val, encoded_y_test = one_hot_encoded(ny_train,ny_val,ny_test)"
      ],
      "execution_count": 16,
      "outputs": [
        {
          "output_type": "stream",
          "text": [
            "Classes:  ['aerosmith' 'beatles' 'creedence_clearwater_revival' 'cure'\n",
            " 'dave_matthews_band' 'depeche_mode' 'fleetwood_mac' 'garth_brooks'\n",
            " 'green_day' 'led_zeppelin' 'madonna' 'metallica' 'prince' 'queen'\n",
            " 'radiohead' 'roxette' 'steely_dan' 'suzanne_vega' 'tori_amos' 'u2']\n"
          ],
          "name": "stdout"
        }
      ]
    },
    {
      "cell_type": "markdown",
      "metadata": {
        "id": "-bSxu8bQDOSh",
        "colab_type": "text"
      },
      "source": [
        "# Model"
      ]
    },
    {
      "cell_type": "code",
      "metadata": {
        "id": "IvwmUFvjDOSi",
        "colab_type": "code",
        "colab": {}
      },
      "source": [
        "def cnn2D(barcode_shape):\n",
        "    \n",
        "    input_shape = (barcode_shape[1],barcode_shape[2],barcode_shape[3])\n",
        "    inputs = Input(shape=input_shape)\n",
        "    \n",
        "    x = inputs\n",
        "    x = Conv2D(filters=16, kernel_size = (7,7), padding = 'same', strides = 1, input_shape =input_shape)(x)\n",
        "    x = LeakyReLU(alpha=0.1)(x)\n",
        "    x = BatchNormalization(axis=input_shape[2])(x)\n",
        "    x = MaxPooling2D(pool_size=(4,2), padding = 'same' , strides = 2)(x)\n",
        "    x = Dropout(0.25)(x)\n",
        "\n",
        "    x = Conv2D(filters=32, kernel_size = (5,5), padding = 'same', strides = 1)(x)\n",
        "    x = LeakyReLU(alpha=0.1)(x)\n",
        "    x = BatchNormalization(axis=input_shape[2])(x)\n",
        "    x = MaxPooling2D(pool_size=(4,4), padding = 'same' , strides = 2)(x)\n",
        "    x = Dropout(0.25)(x)\n",
        "\n",
        "    x = Conv2D(filters=32, kernel_size = (3,3), padding = 'same', strides = 1)(x)\n",
        "    x = LeakyReLU(alpha=0.1)(x)\n",
        "    x = BatchNormalization(axis=input_shape[2])(x)\n",
        "    x = MaxPooling2D(pool_size=(4,4), padding = 'same' , strides = 2)(x)\n",
        "    x = Dropout(0.25)(x)\n",
        "\n",
        "    x = Conv2D(filters=32, kernel_size = (4,4), padding = 'same', strides = 1)(x)\n",
        "    x = LeakyReLU(alpha=0.1)(x)\n",
        "    x = BatchNormalization(axis=input_shape[2])(x)\n",
        "    x = MaxPooling2D(pool_size=(4,4), padding = 'same' , strides = 2)(x)\n",
        "    x = Dropout(0.4)(x)\n",
        "\n",
        "    x = Conv2D(filters=32, kernel_size = (4,4), padding = 'same', strides = 1)(x)\n",
        "    x = LeakyReLU(alpha=0.1)(x)\n",
        "    x = BatchNormalization(axis=input_shape[2])(x)\n",
        "    x = MaxPooling2D(pool_size=(4,4), padding = 'same' , strides = 2)(x)\n",
        "    x = Dropout(0.4)(x)\n",
        "    \n",
        "    x = Conv2D(filters=32, kernel_size = (4,4), padding = 'same', strides = 1)(x)\n",
        "    x = LeakyReLU(alpha=0.1)(x)\n",
        "    x = BatchNormalization(axis=input_shape[2])(x)\n",
        "    x = MaxPooling2D(pool_size=(4,4), padding = 'same' , strides = 2)(x)\n",
        "    x = Dropout(0.4)(x)\n",
        "\n",
        "    x = Flatten()(x)\n",
        "    x = Dense(128)(x)\n",
        "    x = Dropout(0.3)(x)\n",
        "    \n",
        "    x = Dense(20)(x)\n",
        "    X = Dropout(0.1)(x)\n",
        "\n",
        "    model = Model(inputs,x)\n",
        "\n",
        "    return model "
      ],
      "execution_count": 0,
      "outputs": []
    },
    {
      "cell_type": "code",
      "metadata": {
        "id": "W7AAiWUyDOSl",
        "colab_type": "code",
        "colab": {}
      },
      "source": [
        "def cnn2D_spec_20(spec_x_shape):\n",
        "    '''\n",
        "    D.Ellis(2007) Classitying Music Audio with Timbral and Chroma Features. Proc. Int. Conf. on Music Information Retrieval ISMIR-07, Vienna, Austria, Sep. 2007\n",
        "    Zain Nasrullah, Yue Zhao(2019) Music Artist Classification with Convolutional Recurrent Neural Networks Proceedings of the 2019 International Joint Conference on Neural Networks (IJCNN)\n",
        "    I got an idea from these two papers. \n",
        "    '''\n",
        "    input_shape = (spec_x_shape[1], spec_x_shape[2], spec_x_shape[3])\n",
        "    inputs = Input(shape=input_shape)\n",
        "    y = inputs\n",
        "    y = Conv2D(filters=64, kernel_size = (3,3), padding = 'same',  input_shape =input_shape)(y)\n",
        "    y = LeakyReLU(alpha=0.1)(y)\n",
        "    y = BatchNormalization(axis=input_shape[2])(y)\n",
        "    y = MaxPooling2D(pool_size=(2,2), padding = 'same' , strides = (2,2))(y)\n",
        "    y = Dropout(0.1)(y)\n",
        "    \n",
        "    y = Conv2D(filters=128, kernel_size = (3,3), padding = 'same')(y)\n",
        "    y = LeakyReLU(alpha=0.1)(y)\n",
        "    y = BatchNormalization(axis=input_shape[2])(y)\n",
        "    y = MaxPooling2D(pool_size=(4,2), padding = 'same' , strides = (4,2))(y)\n",
        "    y = Dropout(0.1)(y)\n",
        "    \n",
        "    y = Conv2D(filters=128, kernel_size = (3,3), padding = 'same',  input_shape =input_shape)(y)\n",
        "    y = LeakyReLU(alpha=0.1)(y)\n",
        "    y = BatchNormalization(axis=input_shape[2])(y)\n",
        "    y = MaxPooling2D(pool_size=(4,2), padding = 'same' , strides = (4,2))(y)\n",
        "    y = Dropout(0.1)(y)\n",
        "    \n",
        "    y = Conv2D(filters=128, kernel_size = (3,3), padding = 'same', input_shape =input_shape)(y)\n",
        "    y = LeakyReLU(alpha=0.1)(y)\n",
        "    y = BatchNormalization(axis=input_shape[2])(y)\n",
        "    y = MaxPooling2D(pool_size=(4,2), padding = 'same' , strides = (4,2))(y)\n",
        "    y = Dropout(0.1)(y)\n",
        "    \n",
        "    y = Permute((2,1,3))(y)\n",
        "    y = Reshape((40, 128))(y)\n",
        "\n",
        "    y = GRU(32,return_sequences=True)(y)\n",
        "    y = GRU(32,return_sequences=False)(y)\n",
        "    y = Dropout(0.3)(y)\n",
        "    \n",
        "    y = Dense(20)(y)\n",
        "    \n",
        "    model = Model(inputs,y)\n",
        "\n",
        "    return model "
      ],
      "execution_count": 0,
      "outputs": []
    },
    {
      "cell_type": "code",
      "metadata": {
        "id": "LpdJSk4osFv6",
        "colab_type": "code",
        "colab": {}
      },
      "source": [
        "def cnn2D_spec_30(spec_x_shape):\n",
        "    input_shape = (spec_x_shape[1], spec_x_shape[2], spec_x_shape[3])\n",
        "    inputs = Input(shape=input_shape)\n",
        "    y = inputs\n",
        "    y = Conv2D(filters=64, kernel_size = (3,3), padding = 'same',  input_shape =input_shape)(y)\n",
        "    y = LeakyReLU(alpha=0.1)(y)\n",
        "    y = BatchNormalization(axis=input_shape[2])(y)\n",
        "    y = MaxPooling2D(pool_size=(2,2), padding = 'same' , strides = (2,2))(y)\n",
        "    y = Dropout(0.1)(y)\n",
        "    \n",
        "    y = Conv2D(filters=128, kernel_size = (3,3), padding = 'same')(y)\n",
        "    y = LeakyReLU(alpha=0.1)(y)\n",
        "    y = BatchNormalization(axis=input_shape[2])(y)\n",
        "    y = MaxPooling2D(pool_size=(4,2), padding = 'same' , strides = (4,2))(y)\n",
        "    y = Dropout(0.1)(y)\n",
        "    \n",
        "    y = Conv2D(filters=128, kernel_size = (3,3), padding = 'same',  input_shape =input_shape)(y)\n",
        "    y = LeakyReLU(alpha=0.1)(y)\n",
        "    y = BatchNormalization(axis=input_shape[2])(y)\n",
        "    y = MaxPooling2D(pool_size=(4,2), padding = 'same' , strides = (4,2))(y)\n",
        "    y = Dropout(0.1)(y)\n",
        "    \n",
        "    y = Conv2D(filters=128, kernel_size = (3,3), padding = 'same', input_shape =input_shape)(y)\n",
        "    y = LeakyReLU(alpha=0.1)(y)\n",
        "    y = BatchNormalization(axis=input_shape[2])(y)\n",
        "    y = MaxPooling2D(pool_size=(4,2), padding = 'same' , strides = (4,2))(y)\n",
        "    y = Dropout(0.1)(y)\n",
        "    \n",
        "    y = Permute((2,1,3))(y)\n",
        "    y = Reshape((59, 128))(y)\n",
        "\n",
        "    y = GRU(32,return_sequences=True)(y)\n",
        "    y = GRU(32,return_sequences=False)(y)\n",
        "    y = Dropout(0.3)(y)\n",
        "    \n",
        "    y = Dense(20)(y)\n",
        "    \n",
        "    model = Model(inputs,y)\n",
        "\n",
        "    return model "
      ],
      "execution_count": 0,
      "outputs": []
    },
    {
      "cell_type": "code",
      "metadata": {
        "id": "g8NylCFMsPid",
        "colab_type": "code",
        "colab": {}
      },
      "source": [
        "cnn2D_bar = cnn2D(nb_train.shape)\n",
        "\n",
        "cnn2D_spe_20 = cnn2D_spec_20(nspec_x_train.shape)\n",
        "# cnn2D_spe_30 = cnn2D_spec_30(nspec_x_train.shape)"
      ],
      "execution_count": 0,
      "outputs": []
    },
    {
      "cell_type": "code",
      "metadata": {
        "colab_type": "code",
        "id": "kfgUEcd-qWka",
        "colab": {}
      },
      "source": [
        "addedInput_20 = Add()([cnn2D_bar.output, cnn2D_spe_20.output])\n",
        "z_20 = BatchNormalization()(addedInput_20)\n",
        "z_20 = Dropout(0.4)(z_20)\n",
        "\n",
        "z_20 = Dense(20)(z_20)\n",
        "z_20 = Activation(\"softmax\")(z_20)\n",
        "\n",
        "# addedInput_30 = Add()([cnn2D_bar.output, cnn2D_spe_30.output])\n",
        "# z_30 = BatchNormalization()(addedInput_30)\n",
        "# z_30 = Dropout(0.4)(z_30)\n",
        "\n",
        "# z_30 = Dense(20)(z_30)\n",
        "# z_30 = Activation(\"softmax\")(z_30)"
      ],
      "execution_count": 0,
      "outputs": []
    },
    {
      "cell_type": "code",
      "metadata": {
        "id": "wZC9hTKgDOSv",
        "colab_type": "code",
        "colab": {
          "base_uri": "https://localhost:8080/",
          "height": 343
        },
        "outputId": "616deebf-28d6-4c93-a2c3-0e867a88a45a"
      },
      "source": [
        "# CTLRnn_20 = Model(inputs=[cnn2D_bar.input,cnn2D_spe.input],outputs = z_20)\n",
        "# CTLRnn_30 = Model(inputs=[cnn2D_bar.input,cnn2D_spe.input],outputs = z_30)\n",
        "\n",
        "\n",
        "#Loaded the newest one\n",
        "CRTLnn_model_20 = load_model(\"CTLRnn_model_20_updated.h5\")\n",
        "# CRTLnn_model_30 = load_model(\"CTLRnn_model_30_updated.h5\")"
      ],
      "execution_count": 23,
      "outputs": [
        {
          "output_type": "stream",
          "text": [
            "WARNING:tensorflow:From /usr/local/lib/python3.6/dist-packages/tensorflow_core/python/ops/init_ops.py:97: calling VarianceScaling.__init__ (from tensorflow.python.ops.init_ops) with dtype is deprecated and will be removed in a future version.\n",
            "Instructions for updating:\n",
            "Call initializer instance with the dtype argument instead of passing it to the constructor\n",
            "WARNING:tensorflow:From /usr/local/lib/python3.6/dist-packages/tensorflow_core/python/ops/init_ops.py:97: calling Zeros.__init__ (from tensorflow.python.ops.init_ops) with dtype is deprecated and will be removed in a future version.\n",
            "Instructions for updating:\n",
            "Call initializer instance with the dtype argument instead of passing it to the constructor\n",
            "WARNING:tensorflow:From /usr/local/lib/python3.6/dist-packages/tensorflow_core/python/ops/init_ops.py:97: calling Ones.__init__ (from tensorflow.python.ops.init_ops) with dtype is deprecated and will be removed in a future version.\n",
            "Instructions for updating:\n",
            "Call initializer instance with the dtype argument instead of passing it to the constructor\n",
            "WARNING:tensorflow:From /usr/local/lib/python3.6/dist-packages/tensorflow_core/python/ops/init_ops.py:97: calling Orthogonal.__init__ (from tensorflow.python.ops.init_ops) with dtype is deprecated and will be removed in a future version.\n",
            "Instructions for updating:\n",
            "Call initializer instance with the dtype argument instead of passing it to the constructor\n",
            "WARNING:tensorflow:From /usr/local/lib/python3.6/dist-packages/tensorflow_core/python/ops/resource_variable_ops.py:1630: calling BaseResourceVariable.__init__ (from tensorflow.python.ops.resource_variable_ops) with constraint is deprecated and will be removed in a future version.\n",
            "Instructions for updating:\n",
            "If using Keras pass *_constraint arguments to layers.\n",
            "WARNING:tensorflow:From /usr/local/lib/python3.6/dist-packages/tensorflow_core/python/ops/math_grad.py:1424: where (from tensorflow.python.ops.array_ops) is deprecated and will be removed in a future version.\n",
            "Instructions for updating:\n",
            "Use tf.where in 2.0, which has the same broadcast rule as np.where\n"
          ],
          "name": "stdout"
        }
      ]
    },
    {
      "cell_type": "markdown",
      "metadata": {
        "id": "Cxov6oLzDOS0",
        "colab_type": "text"
      },
      "source": [
        "# Train and Test Model"
      ]
    },
    {
      "cell_type": "code",
      "metadata": {
        "id": "Qd0M9YwnDOS0",
        "colab_type": "code",
        "colab": {
          "base_uri": "https://localhost:8080/",
          "height": 1000
        },
        "outputId": "7f50ce8e-023b-49be-d52a-ea5b104ab805"
      },
      "source": [
        "train_model(CRTLnn_model_20,20,epochs=5)"
      ],
      "execution_count": 30,
      "outputs": [
        {
          "output_type": "stream",
          "text": [
            "Train on 12130 samples, validate on 1501 samples\n",
            "Epoch 1/5\n",
            "12128/12130 [============================>.] - ETA: 0s - loss: 0.5438 - acc: 0.8309\n",
            "Epoch 00001: val_acc improved from -inf to 0.60493, saving model to /content/drive/My Drive/src/artist20/weights/CTLRnn_weights.best.hdf5\n",
            "12130/12130 [==============================] - 143s 12ms/sample - loss: 0.5439 - acc: 0.8308 - val_loss: 1.6003 - val_acc: 0.6049\n",
            "Epoch 2/5\n",
            "12128/12130 [============================>.] - ETA: 0s - loss: 0.4714 - acc: 0.8538\n",
            "Epoch 00002: val_acc improved from 0.60493 to 0.61892, saving model to /content/drive/My Drive/src/artist20/weights/CTLRnn_weights.best.hdf5\n",
            "12130/12130 [==============================] - 138s 11ms/sample - loss: 0.4719 - acc: 0.8537 - val_loss: 1.6003 - val_acc: 0.6189\n",
            "Epoch 3/5\n",
            "12128/12130 [============================>.] - ETA: 0s - loss: 0.6738 - acc: 0.7962\n",
            "Epoch 00003: val_acc improved from 0.61892 to 0.63691, saving model to /content/drive/My Drive/src/artist20/weights/CTLRnn_weights.best.hdf5\n",
            "12130/12130 [==============================] - 138s 11ms/sample - loss: 0.6746 - acc: 0.7960 - val_loss: 1.5565 - val_acc: 0.6369\n",
            "Epoch 4/5\n",
            "12128/12130 [============================>.] - ETA: 0s - loss: 0.4661 - acc: 0.8524\n",
            "Epoch 00004: val_acc did not improve from 0.63691\n",
            "12130/12130 [==============================] - 137s 11ms/sample - loss: 0.4674 - acc: 0.8523 - val_loss: 2.7091 - val_acc: 0.5097\n",
            "Epoch 5/5\n",
            "12128/12130 [============================>.] - ETA: 0s - loss: 0.4772 - acc: 0.8526\n",
            "Epoch 00005: val_acc did not improve from 0.63691\n",
            "12130/12130 [==============================] - 137s 11ms/sample - loss: 0.4778 - acc: 0.8524 - val_loss: 2.1120 - val_acc: 0.5616\n",
            "1563/1563 [==============================] - 6s 4ms/sample - loss: 1.7517 - acc: 0.5873\n",
            "Final loss: 1.751679, final accuracy: 0.587332\n"
          ],
          "name": "stdout"
        },
        {
          "output_type": "display_data",
          "data": {
            "image/png": "[encoded data removed]",
            "text/plain": [
              "<Figure size 1152x576 with 2 Axes>"
            ]
          },
          "metadata": {
            "tags": []
          }
        },
        {
          "output_type": "stream",
          "text": [
            "1563/1563 [==============================] - 7s 4ms/sample\n",
            "                              precision    recall  f1-score   support\n",
            "\n",
            "                   aerosmith       0.49      0.47      0.48        38\n",
            "                     beatles       0.60      0.67      0.63        78\n",
            "creedence_clearwater_revival       0.85      0.86      0.85       105\n",
            "                        cure       0.30      0.59      0.40       141\n",
            "          dave_matthews_band       0.93      0.39      0.55       147\n",
            "                depeche_mode       0.49      0.43      0.46        54\n",
            "               fleetwood_mac       0.19      0.30      0.23        33\n",
            "                garth_brooks       0.85      0.92      0.88        36\n",
            "                   green_day       0.83      0.73      0.78        86\n",
            "                led_zeppelin       0.90      0.17      0.29       162\n",
            "                     madonna       0.70      0.54      0.61        87\n",
            "                   metallica       0.99      0.91      0.95       161\n",
            "                      prince       0.83      0.29      0.43        66\n",
            "                       queen       0.75      0.09      0.16        34\n",
            "                   radiohead       0.26      0.71      0.38        52\n",
            "                     roxette       0.47      0.29      0.36        24\n",
            "                  steely_dan       0.96      0.84      0.89        55\n",
            "                suzanne_vega       0.58      0.85      0.69        73\n",
            "                   tori_amos       0.61      0.87      0.72        53\n",
            "                          u2       0.40      0.62      0.48        78\n",
            "\n",
            "                    accuracy                           0.59      1563\n",
            "                   macro avg       0.65      0.58      0.56      1563\n",
            "                weighted avg       0.70      0.59      0.59      1563\n",
            "\n",
            "Train on 12130 samples, validate on 1501 samples\n",
            "Epoch 1/5\n",
            "12128/12130 [============================>.] - ETA: 0s - loss: 0.7581 - acc: 0.7682\n",
            "Epoch 00001: val_acc improved from -inf to 0.58894, saving model to /content/drive/My Drive/src/artist20/weights/CTLRnn_weights_30.best.hdf5\n",
            "12130/12130 [==============================] - 168s 14ms/sample - loss: 0.7582 - acc: 0.7682 - val_loss: 1.5932 - val_acc: 0.5889\n",
            "Epoch 2/5\n",
            "12128/12130 [============================>.] - ETA: 0s - loss: 0.6272 - acc: 0.8077\n",
            "Epoch 00002: val_acc improved from 0.58894 to 0.59560, saving model to /content/drive/My Drive/src/artist20/weights/CTLRnn_weights_30.best.hdf5\n",
            "12130/12130 [==============================] - 168s 14ms/sample - loss: 0.6275 - acc: 0.8076 - val_loss: 1.7383 - val_acc: 0.5956\n",
            "Epoch 3/5\n",
            "12128/12130 [============================>.] - ETA: 0s - loss: 0.5887 - acc: 0.8127\n",
            "Epoch 00003: val_acc improved from 0.59560 to 0.64091, saving model to /content/drive/My Drive/src/artist20/weights/CTLRnn_weights_30.best.hdf5\n",
            "12130/12130 [==============================] - 168s 14ms/sample - loss: 0.5890 - acc: 0.8125 - val_loss: 1.4154 - val_acc: 0.6409\n",
            "Epoch 4/5\n",
            "12128/12130 [============================>.] - ETA: 0s - loss: 0.5481 - acc: 0.8299\n",
            "Epoch 00004: val_acc did not improve from 0.64091\n",
            "12130/12130 [==============================] - 167s 14ms/sample - loss: 0.5487 - acc: 0.8298 - val_loss: 1.4780 - val_acc: 0.6376\n",
            "Epoch 5/5\n",
            "12128/12130 [============================>.] - ETA: 0s - loss: 0.5594 - acc: 0.8269\n",
            "Epoch 00005: val_acc did not improve from 0.64091\n",
            "12130/12130 [==============================] - 168s 14ms/sample - loss: 0.5598 - acc: 0.8269 - val_loss: 2.2368 - val_acc: 0.5363\n",
            "1563/1563 [==============================] - 6s 4ms/sample - loss: 1.6141 - acc: 0.6174\n",
            "Final loss: 1.614066, final accuracy: 0.617402\n"
          ],
          "name": "stdout"
        },
        {
          "output_type": "display_data",
          "data": {
            "image/png": "[encoded data removed]",
            "text/plain": [
              "<Figure size 1152x576 with 2 Axes>"
            ]
          },
          "metadata": {
            "tags": []
          }
        },
        {
          "output_type": "stream",
          "text": [
            "1563/1563 [==============================] - 7s 4ms/sample\n",
            "                              precision    recall  f1-score   support\n",
            "\n",
            "                   aerosmith       0.44      0.68      0.54        38\n",
            "                     beatles       0.73      0.55      0.63        78\n",
            "creedence_clearwater_revival       0.86      0.85      0.86       105\n",
            "                        cure       0.42      0.07      0.12       141\n",
            "          dave_matthews_band       0.74      0.81      0.78       147\n",
            "                depeche_mode       0.26      0.81      0.39        54\n",
            "               fleetwood_mac       0.20      0.18      0.19        33\n",
            "                garth_brooks       0.69      0.94      0.80        36\n",
            "                   green_day       0.96      0.59      0.73        86\n",
            "                led_zeppelin       0.54      0.59      0.56       162\n",
            "                     madonna       0.64      0.55      0.59        87\n",
            "                   metallica       0.95      0.93      0.94       161\n",
            "                      prince       0.54      0.61      0.57        66\n",
            "                       queen       0.23      0.65      0.34        34\n",
            "                   radiohead       0.66      0.71      0.69        52\n",
            "                     roxette       0.56      0.38      0.45        24\n",
            "                  steely_dan       0.63      0.87      0.73        55\n",
            "                suzanne_vega       0.86      0.70      0.77        73\n",
            "                   tori_amos       0.83      0.83      0.83        53\n",
            "                          u2       0.00      0.00      0.00        78\n",
            "\n",
            "                    accuracy                           0.62      1563\n",
            "                   macro avg       0.59      0.62      0.58      1563\n",
            "                weighted avg       0.63      0.62      0.60      1563\n",
            "\n"
          ],
          "name": "stdout"
        }
      ]
    },
    {
      "cell_type": "code",
      "metadata": {
        "id": "sTthsdtdDOS3",
        "colab_type": "code",
        "colab": {}
      },
      "source": [
        ""
      ],
      "execution_count": 0,
      "outputs": []
    },
    {
      "cell_type": "code",
      "metadata": {
        "id": "1x3g9Bs3DOS4",
        "colab_type": "code",
        "colab": {}
      },
      "source": [
        ""
      ],
      "execution_count": 0,
      "outputs": []
    },
    {
      "cell_type": "code",
      "metadata": {
        "id": "_tPlxNbHDOS6",
        "colab_type": "code",
        "colab": {}
      },
      "source": [
        ""
      ],
      "execution_count": 0,
      "outputs": []
    }
  ]
}